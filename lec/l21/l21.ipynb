{
 "cells": [
  {
   "cell_type": "markdown",
   "metadata": {},
   "source": [
    "### Fake News\n",
    "\n",
    "CS579\n",
    "\n",
    "- Lazer, David MJ, et al. \"[The science of fake news](http://science.sciencemag.org/content/359/6380/1094.full).\" Science 359.6380 (2018): 1094-1096.\n",
    "- Vosoughi, Soroush, Deb Roy, and Sinan Aral. \"[The spread of true and false news online.](http://science.sciencemag.org/content/359/6380/1146.full)\" Science 359.6380 (2018): 1146-1151."
   ]
  },
  {
   "cell_type": "markdown",
   "metadata": {},
   "source": [
    "![obama_tweet](obama_tweet.png)\n",
    "![obama_stock](obama_stock.png)\n",
    "[source](https://www.telegraph.co.uk/finance/markets/10013768/Bogus-AP-tweet-about-explosion-at-the-White-House-wipes-billions-off-US-markets.html)\n",
    "\n",
    "<br><br><br>\n",
    "![boston](boston.png)\n",
    "\n",
    "<br><br><br>\n",
    "![moon](moon.png)"
   ]
  },
  {
   "cell_type": "markdown",
   "metadata": {},
   "source": [
    "### What is fake news?\n",
    "\n",
    "\n",
    "Lazer et al.: \n",
    "> fabricated information that mimics news media content in form but not in organizational process or intent.\n",
    "\n",
    "Due to political climate, some are instead calling it **false news**.\n",
    "\n",
    "Related terms:\n",
    "\n",
    "- **misinformation:** false or misleading information\n",
    "- **disinformation:** false information that is purposively spread to deceive"
   ]
  },
  {
   "cell_type": "markdown",
   "metadata": {},
   "source": [
    "Negative impact on\n",
    "- political discussion\n",
    "- scientific discourse\n",
    "- financial markets\n",
    "- trust in institutions\n",
    "- ..."
   ]
  },
  {
   "cell_type": "markdown",
   "metadata": {},
   "source": [
    "Vosoughi, Soroush, Deb Roy, and Sinan Aral. \"[The spread of true and false news online.](http://science.sciencemag.org/content/359/6380/1146.full)\" Science 359.6380 (2018): 1146-1151.\n",
    "\n",
    "Large-scale study to quantify \n",
    "- amount of fake news\n",
    "- whether fake news spreads faster than real news\n",
    "\n",
    "- 126K stories shared by 3M Twitter users from 2006-2017\n",
    "- Truth determined by fact checking sites (snopes, poltifact)\n",
    "\n",
    "Main conclusion:\n",
    "\n",
    "> falsehoods were 70% more likely to be retweeted than the truth"
   ]
  },
  {
   "cell_type": "markdown",
   "metadata": {},
   "source": [
    "**news:** any tweet with an assertion in it (\"the moon landing was faked\")\n",
    "\n",
    "**rumor:** social phenomenon of a news item spreading through a network\n",
    "\n",
    "** rumor cascade:** \n",
    "\n",
    "> A rumor’s diffusion process can be characterized as having one or more cascades, which we define as instances of a rumor spreading pattern that exhibit an unbroken retweet chain with a common, singular origin.\n",
    "\n",
    "![rumor](rumor.png)\n",
    "\n",
    "E.g., \n",
    "> if a rumor “A” is tweeted by 10 people separately, but not retweeted, it would have 10 cascades, each of size one. \n",
    "\n",
    "> Conversely, if a second rumor “B” is independently tweeted by two people and\n",
    "each of those two tweets is retweeted 100 times, the rumor would consist of two cascades, each\n",
    "of size 100.\n",
    "\n",
    "<br><br>\n",
    "For each cascade, compute measures:\n",
    "- **depth**: number of retweet hops  (by unique users)\n",
    "- **size**: number of users\n",
    "- **maximum breadth**: the maximum number of users involved\n",
    "in the cascade at any depth\n",
    "- **structural virality**: average distance between all pairs of nodes in a cascade\n",
    "$$\n",
    "\\frac{1}{n(n-1)}\\sum_{i=1}^{n}\\sum_{j=1}^{n}d_{ij}\n",
    "$$\n",
    "where\n",
    "- $d_{ij}=$ length of shortest path from node $i$ to $j$\n",
    "- $n$ is the number of nodes in the cascade\n",
    "\n",
    "![measures](measures.png)\n",
    "\n",
    "![measure_results](measure_results.png)\n",
    "\n",
    "![results](results.png)\n",
    "\n",
    "![results2](results2.png)\n",
    "\n",
    "![results3](results3.png)\n",
    "\n",
    "![results4](results4.png)\n",
    "\n"
   ]
  },
  {
   "cell_type": "markdown",
   "metadata": {},
   "source": [
    "### What can be done?\n",
    "\n",
    "- **Fact checking**: E.g., Snopes, PoltiFact. Humans do the research to determine if a story is true or false.\n",
    "  - Does this really help? \n",
    "  - **confirmation bias:** We tend to believe things that matches preexisting beliefs, and ignore things that don't.\n",
    "  - **familiarity bias:** We tend to remember information while forgetting its context. Thus, repeating a claim, **even to refute it,** can actually **reinforce** false information.\n",
    "- **Automatic filtering**: Score each article with an \"authenticity\" score. Can then:\n",
    "  - Filter stories with low authenticity\n",
    "  - Indicate via the UI that the story may be false\n",
    "  - Include score in recommender to reduce its popularity\n",
    "- **Government regulation**: \n",
    "  - In U.S., platforms (like Facebook/Twitter) have near legal immunity for the content of their websites. (They are merely \"intermediaries\" under the law.)\n",
    "  \n",
    "<br>\n",
    "\n",
    "![singapore](singapore.png)\n",
    "[source](https://www.nytimes.com/2019/04/01/world/asia/singapore-fake-news-law.html)\n",
    "> The legislation, called the Protection From Online Falsehoods and Manipulation Bill, would require websites to run corrections alongside “online falsehoods” and would “cut off profits” of sites that spread misinformation, among other measures, according to the Ministry of Law.\n",
    "\n",
    "> But human rights advocates said they feared that the bill, which would give government ministers wide-ranging powers to fight misinformation that damaged the public interest, would grant the authorities too much leeway to decide what was true or false.\n",
    "\n",
    "\n",
    "<br><br>\n",
    "Effect of bots?\n",
    "\n",
    "> Contrary to conventional wisdom, robots accelerated the spread of true and false news at the same rate, implying that false news spreads more than the truth because humans, not robots, are more likely to spread it.\n",
    "\n",
    "\n",
    "See bot detection tutorial here:\n",
    "\n",
    "https://isi.edu/~fredmors/bottutorial/Tutorial.pdf\n"
   ]
  }
 ],
 "metadata": {
  "kernelspec": {
   "display_name": "Python 3",
   "language": "python",
   "name": "python3"
  },
  "language_info": {
   "codemirror_mode": {
    "name": "ipython",
    "version": 3
   },
   "file_extension": ".py",
   "mimetype": "text/x-python",
   "name": "python",
   "nbconvert_exporter": "python",
   "pygments_lexer": "ipython3",
   "version": "3.7.3"
  }
 },
 "nbformat": 4,
 "nbformat_minor": 2
}
