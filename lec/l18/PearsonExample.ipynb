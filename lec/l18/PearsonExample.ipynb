{
 "cells": [
  {
   "cell_type": "markdown",
   "metadata": {},
   "source": [
    "## Pearson correlation\n",
    "Here, I give a worked example of the notes in [Lecture l18](https://github.com/iit-cs579/main/blob/master/lec/l18/l18.pdf) to compute the pearson correlation between two movies.\n",
    "\n",
    "Recall that the goal is to compute the correlation between the ratings for two movies $x$ and $y$ using the formula given on slide 24:\n",
    "\n",
    "$$\n",
    "sim(x,y) = \\frac{\\sum_{s \\in S_{xy}}(r_{xs} - \\bar{r}_x)(r_{ys} - \n",
    "\\bar{r}_y)}{\\sqrt{\\sum_{s \\in S_{xy}}(r_{xs} - \\bar{r}_x)^2}\\sqrt{\\sum_{s \\in S_{xy}}(r_{ys} - \\bar{r}_y)^2}}\n",
    "$$\n",
    "where\n",
    "- $r_{xs}$ is the rating given by user $s$ to movie $x$\n",
    "- $\\bar{x}$ is the mean of $x$; $\\bar{y}$ is the mean of $y$ (considering only non-zero values)\n",
    "- $S_{xy}$ is the set of users who have rated both movie $x$ and movie $y$."
   ]
  },
  {
   "cell_type": "code",
   "execution_count": 1,
   "metadata": {},
   "outputs": [],
   "source": [
    "# In this example, we'll compute the similarity of\n",
    "# rows 1 and 3 from slide 30, where 0 means \"no rating\".\n",
    "import numpy as np\n",
    "import math\n",
    "m1 = np.array([0, 4, 0, 5, 0, 0, 5, 0, 0, 3, 0, 1])\n",
    "m3 = np.array([0, 5, 3, 4, 0, 3, 0, 2, 1, 0, 4, 2])"
   ]
  },
  {
   "cell_type": "code",
   "execution_count": 18,
   "metadata": {},
   "outputs": [
    {
     "data": {
      "text/plain": [
       "0.14285714285714285"
      ]
     },
     "execution_count": 18,
     "metadata": {},
     "output_type": "execute_result"
    }
   ],
   "source": [
    "from scipy.stats import pearsonr\n",
    "pearsonr(m1, m3)[0]\n",
    "# wrong b/c it doesn't deal with missing values appropriately."
   ]
  },
  {
   "cell_type": "code",
   "execution_count": 2,
   "metadata": {},
   "outputs": [
    {
     "data": {
      "text/plain": [
       "[1, 3, 11]"
      ]
     },
     "execution_count": 2,
     "metadata": {},
     "output_type": "execute_result"
    }
   ],
   "source": [
    "# find indices of overlapping ratings.\n",
    "# S_xy\n",
    "overlap = [i for i in range(len(m1)) if m1[i] != 0 and m3[i] != 0]\n",
    "overlap"
   ]
  },
  {
   "cell_type": "code",
   "execution_count": 3,
   "metadata": {},
   "outputs": [
    {
     "name": "stdout",
     "output_type": "stream",
     "text": [
      "m1 mean=3.600 m3 mean=3.000\n"
     ]
    }
   ],
   "source": [
    "# Compute means (excluding non-zeros)\n",
    "m1_mean = np.mean(m1[np.where(m1 != 0)])\n",
    "m3_mean = np.mean(m3[np.where(m3 != 0)])\n",
    "print('m1 mean=%.3f m3 mean=%.3f' % (m1_mean, m3_mean))"
   ]
  },
  {
   "cell_type": "markdown",
   "metadata": {},
   "source": [
    "Compute numerator:\n",
    "$$\n",
    "\\sum_{s \\in S_{xy}}(r_{xs} - \\bar{r}_x)(r_{ys} - \n",
    "\\bar{r}_y)\n",
    "$$"
   ]
  },
  {
   "cell_type": "code",
   "execution_count": 4,
   "metadata": {},
   "outputs": [
    {
     "data": {
      "text/plain": [
       "4.8"
      ]
     },
     "execution_count": 4,
     "metadata": {},
     "output_type": "execute_result"
    }
   ],
   "source": [
    "numerator = ((m1[overlap] - m1_mean) * (m3[overlap] - m3_mean)).sum()\n",
    "numerator"
   ]
  },
  {
   "cell_type": "markdown",
   "metadata": {},
   "source": [
    "Compute denominator\n",
    "\n",
    "$$\n",
    "\\sqrt{\\sum_{s \\in S_{xy}}(r_{xs} - \\bar{r}_x)^2}\\sqrt{\\sum_{s \\in S_{xy}}(r_{ys} - \\bar{r}_y)^2}\n",
    "$$"
   ]
  },
  {
   "cell_type": "code",
   "execution_count": 5,
   "metadata": {},
   "outputs": [
    {
     "data": {
      "text/plain": [
       "7.299315036357863"
      ]
     },
     "execution_count": 5,
     "metadata": {},
     "output_type": "execute_result"
    }
   ],
   "source": [
    "denominator = (  math.sqrt(((m1[overlap] - m1_mean)**2).sum()) \n",
    "               * math.sqrt(((m3[overlap] - m3_mean)**2).sum())  )\n",
    "denominator"
   ]
  },
  {
   "cell_type": "code",
   "execution_count": 6,
   "metadata": {},
   "outputs": [
    {
     "data": {
      "text/plain": [
       "0.6575959492214292"
      ]
     },
     "execution_count": 6,
     "metadata": {},
     "output_type": "execute_result"
    }
   ],
   "source": [
    "numerator / denominator"
   ]
  },
  {
   "cell_type": "markdown",
   "metadata": {},
   "source": [
    "So, 0.658 is the similarity between movies m1 and m3.\n",
    "\n",
    "You can repeat the process to get values for other movies."
   ]
  },
  {
   "cell_type": "code",
   "execution_count": 7,
   "metadata": {},
   "outputs": [
    {
     "data": {
      "text/plain": [
       "0.6575959492214292"
      ]
     },
     "execution_count": 7,
     "metadata": {},
     "output_type": "execute_result"
    }
   ],
   "source": [
    "def corr(r1, r2):\n",
    "    m1 = np.mean(r1[np.where(r1 != 0)])\n",
    "    m2 = np.mean(r2[np.where(r2 != 0)])\n",
    "    overlap = [i for i in range(len(r1)) if r1[i] != 0 and r2[i] != 0]\n",
    "    numerator = ((r1[overlap] - m1) * (r2[overlap] - m2))\n",
    "    numerator = numerator.sum()\n",
    "    denominator = (  math.sqrt(((r1[overlap] - m1)**2).sum()) \n",
    "                   * math.sqrt(((r2[overlap] - m2)**2).sum())  )\n",
    "    return numerator/ denominator\n",
    "\n",
    "corr(m1, m3)"
   ]
  },
  {
   "cell_type": "code",
   "execution_count": 8,
   "metadata": {},
   "outputs": [
    {
     "name": "stdout",
     "output_type": "stream",
     "text": [
      "r(m1, m1)=1.00\n",
      "r(m1, m2)=-0.96\n",
      "r(m1, m3)=0.66\n",
      "r(m1, m4)=-0.84\n",
      "r(m1, m5)=-0.89\n",
      "r(m1, m6)=0.77\n"
     ]
    }
   ],
   "source": [
    "m = np.array([\n",
    "    [0, 4, 0, 5, 0, 0, 5, 0, 0, 3, 0, 1],\n",
    "    [3, 1, 2, 0, 0, 4, 0, 0, 4, 5, 0, 0],\n",
    "    [0, 5, 3, 4, 0, 3, 0, 2, 1, 0, 4, 2],\n",
    "    [0, 2, 0, 0, 4, 0, 0, 5, 0, 4, 2, 0],\n",
    "    [5, 2, 0, 0, 0, 0, 2, 4, 3, 4, 0, 0],\n",
    "    [0, 4, 0, 0, 2, 0, 0, 3, 0, 3, 0, 1]\n",
    "    ])\n",
    "\n",
    "for i in range(len(m)):    \n",
    "    print('r(m1, m%d)=%.2f' % (i+1, corr(m[0], m[i])))"
   ]
  }
 ],
 "metadata": {
  "kernelspec": {
   "display_name": "Python 3",
   "language": "python",
   "name": "python3"
  },
  "language_info": {
   "codemirror_mode": {
    "name": "ipython",
    "version": 3
   },
   "file_extension": ".py",
   "mimetype": "text/x-python",
   "name": "python",
   "nbconvert_exporter": "python",
   "pygments_lexer": "ipython3",
   "version": "3.7.0"
  }
 },
 "nbformat": 4,
 "nbformat_minor": 1
}
