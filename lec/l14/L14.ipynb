{
 "cells": [
  {
   "cell_type": "markdown",
   "metadata": {},
   "source": [
    "# CS579\n",
    "### Logistic Regression\n",
    "\n",
    "<br><br>\n",
    "#### Illinois Institute of Technology  \n",
    "#### Aron Culotta\n",
    "\n",
    "<br><br><br><br><br>"
   ]
  },
  {
   "cell_type": "markdown",
   "metadata": {},
   "source": [
    "Classification problem notation:\n",
    "\n",
    "\n",
    "- $\\vec{x} \\in \\mathcal{X}$ &nbsp;&nbsp;&nbsp;&nbsp; *instance*, *example*, *input*\n",
    "  - e.g., an email, a sentence\n",
    "  \n",
    "- $y \\in \\mathcal{Y}$ &nbsp;&nbsp;&nbsp;&nbsp; *target*, *class*, *label*, *output*\n",
    "  - e.g., $y=1$: spam ; $y=-1$: not spam\n",
    "  \n",
    "- $f: \\mathcal{X} \\mapsto \\mathcal{Y}$ &nbsp;&nbsp;&nbsp;&nbsp; *hypothesis*, *learner*, *model*, *classifier*\n",
    "  - e.g., if $x$ contain the word *free*, $y$ is $1$.\n",
    "  \n",
    "  \n",
    "Main quantity of interest: $p(y \\mid \\vec{x})$,  \n",
    "the probability of a class label $y$ given a feature vector $\\vec{x}$."
   ]
  },
  {
   "cell_type": "markdown",
   "metadata": {},
   "source": [
    "### Supervised classification\n",
    "\n",
    "We are given **training data** $D = \\{(\\vec{x}_1, y_1), \\ldots, (\\vec{x}_n, y_n)\\}$\n",
    "\n",
    "||free|money| |*label*|\n",
    "|:--:|:--------:|:--------:|:--:|:--:|\n",
    "||$x_{i1}$|$x_{i2}$| | $y_i$ |\n",
    "|$x_1$|0|0||-1| \n",
    "|$x_2$|1|0|| 1|\n",
    "|$x_3$|1|1||-1|\n",
    "|$x_4$|1|0||-1|\n",
    "|$x_5$|1|1||1|\n",
    "|$x_6$|0|0||1|\n",
    "|$x_7$|0|1||-1|\n",
    "\n",
    "How to classify a new instance?  \n",
    " \"free money\" -> $\\{1,1\\}$\n"
   ]
  },
  {
   "cell_type": "markdown",
   "metadata": {},
   "source": [
    "\n",
    "<u> How can we estimate</u> $p(y \\mid \\vec{x})$?\n",
    "\n",
    "<br><br><br>\n",
    "\n",
    "#### Function estimation\n",
    "\n",
    "$p(y \\mid \\vec{x})$ is just a function $f(y, \\vec{x})$ that satisfies three criteria:\n",
    "1. $0 \\le f(y, \\vec{x}) \\le 1$  : values are between 0 and 1\n",
    "2. $\\sum_{y_i} f(y_i, \\vec{x}) = 1$  : values sum to one for all possible classes\n",
    "3. If $f(y_i, \\vec{x}) > f(y_j, \\vec{x})$, then it is more likely that $\\vec{x}$ is of class $i$ than of class $j$\n",
    "\n",
    "\n",
    "How do we ensure criterion 3?\n",
    "<br><br><br>"
   ]
  },
  {
   "cell_type": "markdown",
   "metadata": {},
   "source": [
    "## Classification as a type of regression\n",
    "\n",
    "Assume our function has some real-valued parameter vector $\\vec{\\theta} = \\{\\theta_1 \\ldots \\theta_k\\}$\n",
    "\n",
    "For simplicity, let's assume there are $k$ terms in our vocabulary, and that each $\\theta$ is associated with a single term.\n",
    "\n",
    "Further, let's assume binary classification, where $y \\in \\{-1, 1\\}$.\n",
    "\n",
    "One simple way to construct a function is as follows:\n",
    "\n",
    "$f(\\vec{x}, \\vec{\\theta}) = \\sum_j x_j \\theta_j = \\vec{x} \\cdot \\vec{\\theta}$  \n",
    "where  \n",
    "- $x_j$ is the frequency of term $j$ in this document.\n",
    "- $\\vec{x} \\cdot \\vec{\\theta}$ is the dot product between vectors $\\vec{x}$ and $\\vec{\\theta}$\n",
    "\n",
    "To classify a document $\\vec{x}$, we can then apply the rule:\n",
    "- If $f(\\vec{x}, \\vec{\\theta}) \\ge 0$\n",
    "  - output $1$\n",
    "- else output $-1$\n",
    "\n",
    "<br><br>\n",
    "Thus,\n",
    "- If $\\theta_j >> 0$ , then term $j$ is associated with the positive class.  \n",
    "- If $\\theta_j << 0$ , then term $j$ is associated with the negative class.\n",
    "<br><br><br>\n",
    "\n"
   ]
  },
  {
   "cell_type": "code",
   "execution_count": 1,
   "metadata": {},
   "outputs": [
    {
     "data": {
      "text/plain": [
       "12"
      ]
     },
     "execution_count": 1,
     "metadata": {},
     "output_type": "execute_result"
    }
   ],
   "source": [
    "from numpy import array as npa\n",
    "import numpy as np\n",
    "\n",
    "def f(x, theta):\n",
    "    return np.dot(x.T, theta)\n",
    "\n",
    "x = npa([1,2,3])  # term0 appears 1 time, term1 appears 2 times...\n",
    "theta = npa([-1, -1, 5])  # term 2 predictive of positive class\n",
    "f(x, theta)"
   ]
  },
  {
   "cell_type": "code",
   "execution_count": 2,
   "metadata": {},
   "outputs": [
    {
     "data": {
      "text/plain": [
       "-20"
      ]
     },
     "execution_count": 2,
     "metadata": {},
     "output_type": "execute_result"
    }
   ],
   "source": [
    "# a negative example.\n",
    "x2 = npa([10, 10, 0])\n",
    "f(x2, theta)"
   ]
  },
  {
   "cell_type": "markdown",
   "metadata": {},
   "source": [
    "This can be understood as a type of regression task. To fit a regression function, we need to pick a model and an error function, then optimize the model parameters somehow. In machine learning, this is most commonly done with the gradient descent algorithm:\n",
    "\n",
    "** Gradient descent recipe **\n",
    "\n",
    "1.  Select a model type (e.g., linear, polynomial, etc)\n",
    "\n",
    "2.  Select an <span>**error function**</span> that, when minimized, results in a good setting of the model parameters.\n",
    "\n",
    "3.  Analytically determine the gradient of the error function with respect to the model parameters.\n",
    "\n",
    "4.  Iteratively change the parameters by a small amount in the direction of the gradient until the (near) minimum of the error function is found.\n",
    "\n",
    "<br><br><br>\n"
   ]
  },
  {
   "cell_type": "markdown",
   "metadata": {},
   "source": [
    "## RSS\n",
    "\n",
    "Given a labeled dataset $D = \\{(y_1, \\vec{x}_1) \\ldots (y_n, \\vec{x}_n)\\}$ , an intuitive error function is called  \n",
    "*Residual Sum of Squares*\n",
    "\n",
    "$$\n",
    "RSS(\\vec{\\theta}, D) = \\frac{1}{2}\\sum_{i=1}^{|D|}(y_i - f(\\vec{x}_i, \\vec{\\theta}))^2\n",
    "$$\n",
    "\n"
   ]
  },
  {
   "cell_type": "code",
   "execution_count": 3,
   "metadata": {},
   "outputs": [],
   "source": [
    "def rss(theta, D):\n",
    "    error = 0\n",
    "    for xi, yi in D:\n",
    "        prediction = f(xi, theta)\n",
    "        errori = (yi - prediction)**2\n",
    "        error += errori\n",
    "        print('truth=%g  prediction=%g error=%g' %\n",
    "              (yi, prediction, errori))\n",
    "    return error / 2"
   ]
  },
  {
   "cell_type": "markdown",
   "metadata": {},
   "source": [
    "||free|money| |*label*|\n",
    "|:--:|:--------:|:--------:|:--:|:--:|\n",
    "||$x_{i1}$|$x_{i2}$| | $y_i$ |\n",
    "|$x_1$|0|0||-1| \n",
    "|$x_2$|1|0|| 1|\n",
    "|$x_3$|1|1||-1|\n",
    "|$x_4$|1|0||-1|\n",
    "|$x_5$|1|1||1|\n",
    "|$x_6$|0|0||1|\n",
    "|$x_7$|0|1||-1|\n"
   ]
  },
  {
   "cell_type": "code",
   "execution_count": 4,
   "metadata": {},
   "outputs": [
    {
     "name": "stdout",
     "output_type": "stream",
     "text": [
      "truth=-1  prediction=0 error=1\n",
      "truth=1  prediction=0 error=1\n",
      "truth=-1  prediction=0 error=1\n",
      "truth=-1  prediction=0 error=1\n",
      "truth=-1  prediction=0 error=1\n",
      "truth=1  prediction=0 error=1\n",
      "truth=1  prediction=0 error=1\n",
      "truth=-1  prediction=0 error=1\n",
      "\n",
      "RSS=4\n"
     ]
    }
   ],
   "source": [
    "D = [\n",
    "    (npa([0,0]), -1),\n",
    "    (npa([1,0]), 1),\n",
    "    (npa([1,1]), -1),\n",
    "    (npa([1,1]), -1),\n",
    "    (npa([1,0]), -1),\n",
    "    (npa([1,1]), 1),\n",
    "    (npa([0,0]), 1),\n",
    "    (npa([0,1]), -1),\n",
    "]\n",
    "theta = npa([0,0])\n",
    "print('\\nRSS=%g' % rss(theta, D))"
   ]
  },
  {
   "cell_type": "code",
   "execution_count": 5,
   "metadata": {},
   "outputs": [
    {
     "name": "stdout",
     "output_type": "stream",
     "text": [
      "truth=-1  prediction=0 error=1\n",
      "truth=1  prediction=1 error=0\n",
      "truth=-1  prediction=2 error=9\n",
      "truth=-1  prediction=2 error=9\n",
      "truth=-1  prediction=1 error=4\n",
      "truth=1  prediction=2 error=1\n",
      "truth=1  prediction=0 error=1\n",
      "truth=-1  prediction=1 error=4\n",
      "\n",
      "RSS=14.5\n"
     ]
    }
   ],
   "source": [
    "theta = npa([1,1])\n",
    "print('\\nRSS=%g' % rss(theta, D))"
   ]
  },
  {
   "cell_type": "code",
   "execution_count": 6,
   "metadata": {},
   "outputs": [
    {
     "name": "stdout",
     "output_type": "stream",
     "text": [
      "truth=-1  prediction=0 error=1\n",
      "truth=1  prediction=0.5 error=0.25\n",
      "truth=-1  prediction=-0.5 error=0.25\n",
      "truth=-1  prediction=-0.5 error=0.25\n",
      "truth=-1  prediction=0.5 error=2.25\n",
      "truth=1  prediction=-0.5 error=2.25\n",
      "truth=1  prediction=0 error=1\n",
      "truth=-1  prediction=-1 error=0\n",
      "\n",
      "RSS=3.625\n"
     ]
    }
   ],
   "source": [
    "theta = npa([0.5,-1])\n",
    "print('\\nRSS=%g' % rss(theta, D))"
   ]
  },
  {
   "cell_type": "markdown",
   "metadata": {},
   "source": [
    "The optimization problem is then to pick optimal $\\vec{\\theta}^*$ to satisfy:\n",
    "\n",
    "$$ \\vec{\\theta}^* = \\mathrm{argmin}_\\vec{\\theta} \\hspace{.4cm} RSS(\\vec{\\theta}, D)$$\n",
    "\n",
    "<br><br>\n",
    "\n",
    "**Solution:** Gradient descent\n",
    "\n",
    "<img src=\"https://sebastianraschka.com/images/faq/closed-form-vs-gd/ball.png\">\n",
    "\n",
    "while not converged:\n",
    "1. Compute gradient $\\nabla_\\vec{\\theta}$ of $\\vec{\\theta}$ w.r.t. RSS\n",
    "2. Change $\\vec{\\theta}$ in direction of $\\nabla_\\vec{\\theta}$\n",
    "\n",
    "\n",
    "$$\\nabla_\\vec{\\theta} = \\{\\frac{\\partial RSS(f, D)}{\\partial \\theta_1} \\ldots \\frac{\\partial RSS(f, D)}{\\partial \\theta_v}\\}$$\n",
    "\n",
    "\\begin{aligned}\n",
    "\\frac{\\partial RSS(f, D)}{\\partial \\theta_j} &=& \\frac{\\partial}{\\partial \\theta_j} \\frac{1}{2}\\sum_{i=1}^{|D|}(y_i - \\vec{\\theta} \\cdot \\vec{x}_i)^2\\\\\n",
    "&=& \\sum_{i=1}^{|D|}(y_i - \\vec{\\theta} \\cdot \\vec{x}_i)\\frac{\\partial}{\\partial \\theta_j} (y_i - \\theta \\cdot \\vec{x}_i)\\\\\n",
    "&=& \\sum_{i=1}^{|D|}(y_i - \\vec{\\theta} \\cdot \\vec{x}_i)(-x_{ij})\\end{aligned}\n",
    "\n",
    "<br><br>\n",
    "**To update parameters:**\n",
    "\n",
    "$$\\theta_j^{t+1} = \\theta_j^{t} + \\eta \\sum_{i=1}^{|D|}(y_i - \\vec{\\theta}^t \\cdot \\vec{x}_i)x_{ij}$$\n",
    "\n",
    "$\\eta$ = \"learning rate\", to prevent \"jumping over\" minimum\n",
    "\n",
    "<br>\n",
    "\n",
    "What is this update doing?\n",
    "<br><br><br>\n",
    "- Compute error on $i$th example\n",
    "- Adjust parameter $j$ to reduce that error, proportional to how important feature $j$ is for example $i$"
   ]
  },
  {
   "cell_type": "code",
   "execution_count": 7,
   "metadata": {},
   "outputs": [],
   "source": [
    "def gradient(theta, D):\n",
    "    result = np.zeros(len(theta), dtype=np.float64)\n",
    "    for xi, yi in D:\n",
    "        error = yi - f(xi, theta)\n",
    "        for j, xij in enumerate(xi):\n",
    "            result[j] += error * -xij\n",
    "    return result"
   ]
  },
  {
   "cell_type": "code",
   "execution_count": 8,
   "metadata": {},
   "outputs": [
    {
     "data": {
      "text/plain": [
       "array([1., 2.])"
      ]
     },
     "execution_count": 8,
     "metadata": {},
     "output_type": "execute_result"
    }
   ],
   "source": [
    "gradient(npa([0,0]), D)"
   ]
  },
  {
   "cell_type": "code",
   "execution_count": 9,
   "metadata": {},
   "outputs": [
    {
     "name": "stdout",
     "output_type": "stream",
     "text": [
      "truth=-1  prediction=0 error=1\n",
      "truth=1  prediction=0 error=1\n",
      "truth=-1  prediction=0 error=1\n",
      "truth=-1  prediction=0 error=1\n",
      "truth=-1  prediction=0 error=1\n",
      "truth=1  prediction=0 error=1\n",
      "truth=1  prediction=0 error=1\n",
      "truth=-1  prediction=0 error=1\n"
     ]
    },
    {
     "data": {
      "text/plain": [
       "4.0"
      ]
     },
     "execution_count": 9,
     "metadata": {},
     "output_type": "execute_result"
    }
   ],
   "source": [
    "rss(npa([0, 0]), D)"
   ]
  },
  {
   "cell_type": "code",
   "execution_count": 10,
   "metadata": {},
   "outputs": [
    {
     "name": "stdout",
     "output_type": "stream",
     "text": [
      "truth=-1  prediction=0 error=1\n",
      "truth=1  prediction=-1 error=4\n",
      "truth=-1  prediction=-3 error=4\n",
      "truth=-1  prediction=-3 error=4\n",
      "truth=-1  prediction=-1 error=0\n",
      "truth=1  prediction=-3 error=16\n",
      "truth=1  prediction=0 error=1\n",
      "truth=-1  prediction=-2 error=1\n"
     ]
    },
    {
     "data": {
      "text/plain": [
       "15.5"
      ]
     },
     "execution_count": 10,
     "metadata": {},
     "output_type": "execute_result"
    }
   ],
   "source": [
    "rss(npa([-1, -2]), D)"
   ]
  },
  {
   "cell_type": "code",
   "execution_count": 11,
   "metadata": {},
   "outputs": [],
   "source": [
    "import matplotlib.pyplot as plt\n",
    "%matplotlib inline\n",
    "\n",
    "def gradient_descent(gradient_fn, error_fn, theta,\n",
    "                     learning_rate, D,\n",
    "                     tolerance, max_iters):\n",
    "    errori = error_fn(theta, D)\n",
    "    iters = 0\n",
    "    all_errors = [errori]\n",
    "    while True:\n",
    "        iters += 1\n",
    "        print('\\n\\niteration %d' % iters)\n",
    "        grad = gradient_fn(theta, D)\n",
    "        theta -= learning_rate * grad  # UPDATE!\n",
    "        newerror = error_fn(theta, D)\n",
    "        all_errors.append(newerror)\n",
    "        print('old error=%g   new error=%g  theta=%s\\n\\n' %\n",
    "              (errori, newerror, str(theta)))\n",
    "        error_diff = errori - newerror\n",
    "        if error_diff < 0 or errori - newerror < tolerance \\\n",
    "            or iters >= max_iters:\n",
    "            break\n",
    "        else:\n",
    "            errori = newerror\n",
    "            \n",
    "    plt.plot(all_errors, 'bo-')\n",
    "    plt.xlabel('iteration')\n",
    "    plt.ylabel('error')\n",
    "    return theta"
   ]
  },
  {
   "cell_type": "code",
   "execution_count": 18,
   "metadata": {
    "scrolled": false
   },
   "outputs": [
    {
     "name": "stdout",
     "output_type": "stream",
     "text": [
      "truth=-1  prediction=0 error=1\n",
      "truth=1  prediction=1 error=0\n",
      "truth=-1  prediction=2 error=9\n",
      "truth=-1  prediction=2 error=9\n",
      "truth=-1  prediction=1 error=4\n",
      "truth=1  prediction=2 error=1\n",
      "truth=1  prediction=0 error=1\n",
      "truth=-1  prediction=1 error=4\n",
      "\n",
      "\n",
      "iteration 1\n",
      "truth=-1  prediction=0 error=1\n",
      "truth=1  prediction=-0.8 error=3.24\n",
      "truth=-1  prediction=-1.6 error=0.36\n",
      "truth=-1  prediction=-1.6 error=0.36\n",
      "truth=-1  prediction=-0.8 error=0.04\n",
      "truth=1  prediction=-1.6 error=6.76\n",
      "truth=1  prediction=0 error=1\n",
      "truth=-1  prediction=-0.8 error=0.04\n",
      "old error=14.5   new error=6.4  theta=[-0.8 -0.8]\n",
      "\n",
      "\n",
      "\n",
      "\n",
      "iteration 2\n",
      "truth=-1  prediction=0 error=1\n",
      "truth=1  prediction=0.28 error=0.5184\n",
      "truth=-1  prediction=0.2 error=1.44\n",
      "truth=-1  prediction=0.2 error=1.44\n",
      "truth=-1  prediction=0.28 error=1.6384\n",
      "truth=1  prediction=0.2 error=0.64\n",
      "truth=1  prediction=0 error=1\n",
      "truth=-1  prediction=-0.08 error=0.8464\n",
      "old error=6.4   new error=4.2616  theta=[ 0.28 -0.08]\n",
      "\n",
      "\n",
      "\n",
      "\n",
      "iteration 3\n",
      "truth=-1  prediction=0 error=1\n",
      "truth=1  prediction=-0.152 error=1.3271\n",
      "truth=-1  prediction=-0.736 error=0.069696\n",
      "truth=-1  prediction=-0.736 error=0.069696\n",
      "truth=-1  prediction=-0.152 error=0.719104\n",
      "truth=1  prediction=-0.736 error=3.0137\n",
      "truth=1  prediction=0 error=1\n",
      "truth=-1  prediction=-0.584 error=0.173056\n",
      "old error=4.2616   new error=3.68618  theta=[-0.152 -0.584]\n",
      "\n",
      "\n",
      "\n",
      "\n",
      "iteration 4\n",
      "truth=-1  prediction=0 error=1\n",
      "truth=1  prediction=0.1504 error=0.72182\n",
      "truth=-1  prediction=-0.2752 error=0.525335\n",
      "truth=-1  prediction=-0.2752 error=0.525335\n",
      "truth=-1  prediction=0.1504 error=1.32342\n",
      "truth=1  prediction=-0.2752 error=1.62614\n",
      "truth=1  prediction=0 error=1\n",
      "truth=-1  prediction=-0.4256 error=0.329935\n",
      "old error=3.68618   new error=3.52599  theta=[ 0.1504 -0.4256]\n",
      "\n",
      "\n",
      "\n",
      "\n",
      "iteration 5\n",
      "truth=-1  prediction=0 error=1\n",
      "truth=1  prediction=0.05536 error=0.892345\n",
      "truth=-1  prediction=-0.52 error=0.2304\n",
      "truth=-1  prediction=-0.52 error=0.2304\n",
      "truth=-1  prediction=0.05536 error=1.11378\n",
      "truth=1  prediction=-0.52 error=2.3104\n",
      "truth=1  prediction=0 error=1\n",
      "truth=-1  prediction=-0.57536 error=0.180319\n",
      "old error=3.52599   new error=3.47882  theta=[ 0.05536 -0.57536]\n",
      "\n",
      "\n",
      "\n",
      "\n",
      "iteration 6\n",
      "truth=-1  prediction=0 error=1\n",
      "truth=1  prediction=0.145216 error=0.730656\n",
      "truth=-1  prediction=-0.403072 error=0.356323\n",
      "truth=-1  prediction=-0.403072 error=0.356323\n",
      "truth=-1  prediction=0.145216 error=1.31152\n",
      "truth=1  prediction=-0.403072 error=1.96861\n",
      "truth=1  prediction=0 error=1\n",
      "truth=-1  prediction=-0.548288 error=0.204044\n",
      "old error=3.47882   new error=3.46374  theta=[ 0.145216 -0.548288]\n",
      "\n",
      "\n",
      "\n",
      "\n",
      "iteration 7\n",
      "truth=-1  prediction=0 error=1\n",
      "truth=1  prediction=0.128973 error=0.758688\n",
      "truth=-1  prediction=-0.467814 error=0.283222\n",
      "truth=-1  prediction=-0.467814 error=0.283222\n",
      "truth=-1  prediction=0.128973 error=1.27458\n",
      "truth=1  prediction=-0.467814 error=2.15448\n",
      "truth=1  prediction=0 error=1\n",
      "truth=-1  prediction=-0.596787 error=0.162581\n",
      "old error=3.46374   new error=3.45839  theta=[ 0.1289728 -0.5967872]\n",
      "\n",
      "\n"
     ]
    },
    {
     "data": {
      "text/plain": [
       "array([ 0.1289728, -0.5967872])"
      ]
     },
     "execution_count": 18,
     "metadata": {},
     "output_type": "execute_result"
    },
    {
     "data": {
      "image/png": "[encoded data removed]",
      "text/plain": [
       "<Figure size 432x288 with 1 Axes>"
      ]
     },
     "metadata": {},
     "output_type": "display_data"
    }
   ],
   "source": [
    "theta = npa([1.,1.])\n",
    "gradient_descent(gradient, rss, theta,\n",
    "                 .2, D, .01, 10)"
   ]
  },
  {
   "cell_type": "markdown",
   "metadata": {},
   "source": [
    "## From regression to classification\n",
    "\n",
    "**Does our error function make sense?**\n",
    "\n",
    "\n",
    "iteration 1  \n",
    "truth=-1  prediction=0 error=1  \n",
    "truth=1  prediction=-0.8 error=3.24  \n",
    "**truth=-1  prediction=-1.6 error=0.36**\n",
    "\n",
    "<br><br>\n",
    "\n",
    "The above assumes that the output variable $y_i$ is a real number. Thus, this is a model of <span>**regression**</span>.  \n",
    "\n",
    "When $y$ is disrete, the problem is one of <span>**classification**</span>.  \n",
    "\n",
    "<br>\n",
    "Recall our three criterion for the function:\n",
    "1. $0 \\le f(y, \\vec{x}) \\le 1$  : values are between 0 and 1\n",
    "2. $\\sum_{y_i} f(y_i, \\vec{x}) = 1$  : values sum to one for all possible classes\n",
    "3. If $f(y_i, \\vec{x}) > f(y_j, \\vec{x})$, then it is more likely that $\\vec{x}$ is of class $i$ than of class $j$\n",
    "\n",
    "<br>\n",
    "We have satisfied 3 (mostly), but not 1 or 2.\n",
    "\n",
    "<br><br>\n",
    "\n",
    "The way around this is to change our model. Rather than regression, we need classification. We can do this by passing the dot product $x_i \\cdot \\theta$ through a “squashing function” (the **logistic function**) that ensures its value is always between 0 and 1: \n",
    "\n",
    "$$f(\\vec{x}_i, \\vec{\\theta}) = \\frac{1}{1 + e^{-\\vec{x}_i \\cdot \\vec{\\theta}}}$$\n",
    "\n",
    "This is called **logistic regression.**\n"
   ]
  },
  {
   "cell_type": "code",
   "execution_count": 13,
   "metadata": {},
   "outputs": [
    {
     "data": {
      "image/png": "[encoded data removed]",
      "text/plain": [
       "<Figure size 576x432 with 1 Axes>"
      ]
     },
     "metadata": {},
     "output_type": "display_data"
    }
   ],
   "source": [
    "from math import exp\n",
    "def logistic(x, theta):\n",
    "    return 1 / (1 + exp(-f(x, theta)))\n",
    "    \n",
    "x = npa([1])\n",
    "\n",
    "plt.figure(figsize=(8,6))\n",
    "plt.plot(range(-10, 10), [logistic(x, theta) for theta in range(-10, 10)])\n",
    "plt.xlabel('theta * x', size=20)\n",
    "plt.ylabel('logistic', size=20)\n",
    "plt.show()"
   ]
  },
  {
   "cell_type": "markdown",
   "metadata": {},
   "source": [
    "Because $f(x_i, \\vec{\\theta})$ will always be between 0 and 1, and will sum to one for both classes, we have the right to call this a <span>**probability**</span> $p(y_i=1|\\vec{x}_i)$.  \n",
    "\n",
    "$$f(\\vec{x}_i) = p(y_i=1|\\vec{x}_i) = \\frac{1}{1 + e^{-\\vec{x}_i \\cdot \\vec{\\theta}}}$$\n",
    "\n",
    "and, for binary classification, the probability of a negative example:\n",
    "\n",
    "$$\n",
    "p(y_i=-1|\\vec{x}_i) = 1 - p(y_i=1|\\vec{x}_i)\n",
    "$$\n",
    "\n",
    "with some algebra, it turns out that:\n",
    "\n",
    "$$\n",
    "p(y_i=-1|\\vec{x}_i) = \\frac{1}{1 + e^{\\vec{x}_i \\cdot \\vec{\\theta}}}\n",
    "$$\n",
    "\n",
    "Because of this, if $y_i \\in \\{-1, 1\\}$, we can write:\n",
    "\n",
    "$$\n",
    "p(y_i|\\vec{x}_i) =  \\frac{1}{1 + e^{-y_i \\vec{x}_i \\cdot \\vec{\\theta}}}\n",
    "$$"
   ]
  },
  {
   "cell_type": "markdown",
   "metadata": {},
   "source": [
    "**What is a good error function for logistic regression?**\n",
    "\n",
    "We can now rephrase our learning objective as maximizing the <span>*joint probability of the true labels for all training instances.*</span>  \n",
    "\n",
    "Since we assume each instance is drawn independently, we can write this joint probability as a product of individual probabilities: \n",
    "\n",
    "$$p(y_1 \\ldots y_n|\\vec{x}_1 \\ldots \\vec{x}_n) = p(y_1|\\vec{x}_n) * p(y_2|\\vec{x}_2) * \\ldots * p(y_n|\\vec{x}_n) = \\prod_{i=1}^{n}p(y_i|\\vec{x}_i)$$\n",
    "\n",
    "Because we’re used to minimizing functions using gradient descent, rather than maximizing the probability, we can instead minimize the negative probability. This is our new error function: \n",
    "\n",
    "$$\n",
    "E(D, h) = - \\prod_{i=1}^{n}p(y_i|x_i)\n",
    "$$\n",
    "\n",
    "Note that this is very similar to RSS, but by using probabilities, we ensure that the output for each instance is always between 0 and 1.\n",
    "\n",
    "<br><br>\n",
    "\n",
    "Following our learning recipe, our next step is to minimize $E(D,h)$ using gradient descent.  \n",
    "\n",
    "Computing the gradient of $E(D,h)$ in its current form is rather hard. So, we can simply transform it to something that’s easier to take the gradient of: \n",
    "\n",
    "$$E(D,h) = - \\ln \\prod_{i=1}^n  p(y_i|\\vec{x}_i) = -\\sum_i \\ln p(y_i|\\vec{x}_i)$$\n",
    "\n",
    "This is called the <span>**negative log likelihood**</span>. It turns out that minimizing $f(x)$ or $\\ln f(x)$ results in the same answer, so we can make this transformation without affecting our final solution.\n"
   ]
  },
  {
   "cell_type": "code",
   "execution_count": 14,
   "metadata": {},
   "outputs": [],
   "source": [
    "from math import log\n",
    "\n",
    "def nll(theta, D):\n",
    "    total = 0\n",
    "    for xi, yi in D:\n",
    "        pred = logistic(xi, theta) if yi==1 else 1-logistic(xi, theta)\n",
    "        print('truth=%g  pr(true label)=%g' % \n",
    "              (yi, pred))\n",
    "        total += log(pred)\n",
    "    return -total"
   ]
  },
  {
   "cell_type": "markdown",
   "metadata": {},
   "source": [
    "\n",
    "Now we’re ready to calculate the gradient with respect to one parameter $\\theta_j$:\n",
    "\n",
    "$$\n",
    "\\begin{aligned}\n",
    "\\frac{\\partial E(D,f)}{\\partial \\theta_j} & = & \\frac{\\partial}{\\partial \\theta_j}- \\ln \\prod_i \\frac{1}{1 + e^{-y_i x_i \\cdot \\theta}} \\\\\n",
    "& = &  \\frac{\\partial}{\\partial \\theta_j}-  \\sum_i \\ln \\frac{1}{1 + e^{-y_i x_i \\cdot \\theta}} \\quad \\hbox{(by definition of log of products)}\\\\\n",
    "& = &  -  \\sum_i 1 + e^{-y_i x_i \\cdot \\theta} \\frac{\\partial}{\\partial \\theta_j} \\frac{1}{1 + e^{-y_i x_i \\cdot \\theta}} \\quad  \\hbox{  (by }\\frac{d}{dx}\\ln(f(x)) = \\frac{1}{f(x)} \\frac{d}{dx}f(x) ) \\\\\n",
    "& = &  -  \\sum_i (1 + e^{-y_i x_i \\cdot \\theta})\\Big(\\frac{-y_ix_{ij} e^{-y_ix_i \\cdot \\theta}}{(1 + e^{-y_ix_i\\cdot \\theta})^2}\\Big) \\quad \\hbox{    (by quotient and chain rules) }\\\\\n",
    "& = & - \\sum_i \\frac{-y_i x_{ij} e^{-y_i x_i \\cdot \\theta}}{1 + e^{-y_i x_i \\cdot \\theta}} \\quad \\hbox{     (by algebra) }\\\\\n",
    "& = & \\sum_i y_i x_{ij} (1 - p(y_i | x_i)) \\quad \\Big( \\hbox{by }\\frac{e^{-y_i x_i \\cdot \\theta}}{1 + e^{-y_i x_i \\cdot \\theta}} = 1 - p(y_i|x_i) \\Big)\n",
    "\\end{aligned}\n",
    "$$\n",
    "\n",
    "Thus, the final logistic regression update is: \n",
    "\n",
    "$$\n",
    "\\theta_j^{t+1} \\leftarrow \\theta_j^{t} + \\eta \\sum_i y_i x_{ij}(1-p(y_i|\\vec{x}_i))\n",
    "$$\n",
    "\n"
   ]
  },
  {
   "cell_type": "code",
   "execution_count": 15,
   "metadata": {},
   "outputs": [],
   "source": [
    "def gradient_logistic(theta, D):\n",
    "    result = np.zeros(len(theta), dtype=np.float64)\n",
    "    for xi, yi in D:\n",
    "        pred = logistic(xi, theta) if yi==1 else 1-logistic(xi, theta)\n",
    "        error = yi * (1-pred)\n",
    "        for j, xij in enumerate(xi):\n",
    "            result[j] -= error * xij\n",
    "    return result"
   ]
  },
  {
   "cell_type": "code",
   "execution_count": 16,
   "metadata": {
    "scrolled": false
   },
   "outputs": [
    {
     "name": "stdout",
     "output_type": "stream",
     "text": [
      "truth=-1  pr(true label)=0.5\n",
      "truth=1  pr(true label)=0.731059\n",
      "truth=-1  pr(true label)=0.119203\n",
      "truth=-1  pr(true label)=0.119203\n",
      "truth=-1  pr(true label)=0.268941\n",
      "truth=1  pr(true label)=0.880797\n",
      "truth=1  pr(true label)=0.5\n",
      "truth=-1  pr(true label)=0.268941\n",
      "\n",
      "\n",
      "iteration 1\n",
      "truth=-1  pr(true label)=0.5\n",
      "truth=1  pr(true label)=0.687735\n",
      "truth=-1  pr(true label)=0.174768\n",
      "truth=-1  pr(true label)=0.174768\n",
      "truth=-1  pr(true label)=0.312265\n",
      "truth=1  pr(true label)=0.825232\n",
      "truth=1  pr(true label)=0.5\n",
      "truth=-1  pr(true label)=0.31807\n",
      "old error=8.70686   new error=7.75071  theta=[0.78954916 0.76265502]\n",
      "\n",
      "\n",
      "\n",
      "\n",
      "iteration 2\n",
      "truth=-1  pr(true label)=0.5\n",
      "truth=1  pr(true label)=0.64667\n",
      "truth=-1  pr(true label)=0.240247\n",
      "truth=-1  pr(true label)=0.240247\n",
      "truth=-1  pr(true label)=0.35333\n",
      "truth=1  pr(true label)=0.759753\n",
      "truth=1  pr(true label)=0.5\n",
      "truth=-1  pr(true label)=0.366586\n",
      "old error=7.75071   new error=6.99303  theta=[0.6044327  0.54689247]\n",
      "\n",
      "\n",
      "\n",
      "\n",
      "iteration 3\n",
      "truth=-1  pr(true label)=0.5\n",
      "truth=1  pr(true label)=0.609967\n",
      "truth=-1  pr(true label)=0.309427\n",
      "truth=-1  pr(true label)=0.309427\n",
      "truth=-1  pr(true label)=0.390033\n",
      "truth=1  pr(true label)=0.690573\n",
      "truth=1  pr(true label)=0.5\n",
      "truth=-1  pr(true label)=0.412019\n",
      "old error=6.99303   new error=6.42515  theta=[0.44717288 0.35562518]\n",
      "\n",
      "\n",
      "\n",
      "\n",
      "iteration 4\n",
      "truth=-1  pr(true label)=0.5\n",
      "truth=1  pr(true label)=0.578839\n",
      "truth=-1  pr(true label)=0.375742\n",
      "truth=-1  pr(true label)=0.375742\n",
      "truth=-1  pr(true label)=0.421161\n",
      "truth=1  pr(true label)=0.624258\n",
      "truth=1  pr(true label)=0.5\n",
      "truth=-1  pr(true label)=0.452728\n",
      "old error=6.42515   new error=6.01913  theta=[0.3180077  0.18965527]\n",
      "\n",
      "\n",
      "\n",
      "\n",
      "iteration 5\n",
      "truth=-1  pr(true label)=0.5\n",
      "truth=1  pr(true label)=0.553535\n",
      "truth=-1  pr(true label)=0.434721\n",
      "truth=-1  pr(true label)=0.434721\n",
      "truth=-1  pr(true label)=0.446465\n",
      "truth=1  pr(true label)=0.565279\n",
      "truth=1  pr(true label)=0.5\n",
      "truth=-1  pr(true label)=0.48809\n",
      "old error=6.01913   new error=5.73791  theta=[0.21496244 0.04765051]\n",
      "\n",
      "\n",
      "\n",
      "\n",
      "iteration 6\n",
      "truth=-1  pr(true label)=0.5\n",
      "truth=1  pr(true label)=0.533617\n",
      "truth=-1  pr(true label)=0.484618\n",
      "truth=-1  pr(true label)=0.484618\n",
      "truth=-1  pr(true label)=0.466383\n",
      "truth=1  pr(true label)=0.515382\n",
      "truth=1  pr(true label)=0.5\n",
      "truth=-1  pr(true label)=0.518273\n",
      "old error=5.73791   new error=5.54601  theta=[ 0.13467196 -0.07312408]\n",
      "\n",
      "\n",
      "\n",
      "\n",
      "iteration 7\n",
      "truth=-1  pr(true label)=0.5\n",
      "truth=1  pr(true label)=0.518325\n",
      "truth=-1  pr(true label)=0.525622\n",
      "truth=-1  pr(true label)=0.525622\n",
      "truth=-1  pr(true label)=0.481675\n",
      "truth=1  pr(true label)=0.474378\n",
      "truth=1  pr(true label)=0.5\n",
      "truth=-1  pr(true label)=0.543865\n",
      "old error=5.54601   new error=5.41508  theta=[ 0.07333389 -0.17591143]\n",
      "\n",
      "\n",
      "\n",
      "\n",
      "iteration 8\n",
      "truth=-1  pr(true label)=0.5\n",
      "truth=1  pr(true label)=0.506838\n",
      "truth=-1  pr(true label)=0.558847\n",
      "truth=-1  pr(true label)=0.558847\n",
      "truth=-1  pr(true label)=0.493162\n",
      "truth=1  pr(true label)=0.441153\n",
      "truth=1  pr(true label)=0.5\n",
      "truth=-1  pr(true label)=0.56558\n",
      "old error=5.41508   new error=5.3248  theta=[ 0.02735541 -0.26383837]\n",
      "\n",
      "\n",
      "\n",
      "\n",
      "iteration 9\n",
      "truth=-1  pr(true label)=0.5\n",
      "truth=1  pr(true label)=0.49841\n",
      "truth=-1  pr(true label)=0.585644\n",
      "truth=-1  pr(true label)=0.585644\n",
      "truth=-1  pr(true label)=0.50159\n",
      "truth=1  pr(true label)=0.414356\n",
      "truth=1  pr(true label)=0.5\n",
      "truth=-1  pr(true label)=0.5841\n",
      "old error=5.3248   new error=5.2614  theta=[-0.00635825 -0.33962638]\n",
      "\n",
      "\n",
      "\n",
      "\n",
      "iteration 10\n",
      "truth=-1  pr(true label)=0.5\n",
      "truth=1  pr(true label)=0.492414\n",
      "truth=-1  pr(true label)=0.607275\n",
      "truth=-1  pr(true label)=0.607275\n",
      "truth=-1  pr(true label)=0.507586\n",
      "truth=1  pr(true label)=0.392725\n",
      "truth=1  pr(true label)=0.5\n",
      "truth=-1  pr(true label)=0.600014\n",
      "old error=5.2614   new error=5.21581  theta=[-0.03034728 -0.40552335]\n",
      "\n",
      "\n",
      "\n",
      "\n",
      "iteration 11\n",
      "truth=-1  pr(true label)=0.5\n",
      "truth=1  pr(true label)=0.48834\n",
      "truth=-1  pr(true label)=0.624803\n",
      "truth=-1  pr(true label)=0.624803\n",
      "truth=-1  pr(true label)=0.51166\n",
      "truth=1  pr(true label)=0.375197\n",
      "truth=1  pr(true label)=0.5\n",
      "truth=-1  pr(true label)=0.613806\n",
      "old error=5.21581   new error=5.18215  theta=[-0.04664764 -0.46333956]\n",
      "\n",
      "\n",
      "\n",
      "\n",
      "iteration 12\n",
      "truth=-1  pr(true label)=0.5\n",
      "truth=1  pr(true label)=0.485785\n",
      "truth=-1  pr(true label)=0.639084\n",
      "truth=-1  pr(true label)=0.639084\n",
      "truth=-1  pr(true label)=0.514215\n",
      "truth=1  pr(true label)=0.360916\n",
      "truth=1  pr(true label)=0.5\n",
      "truth=-1  pr(true label)=0.625865\n",
      "old error=5.18215   new error=5.15657  theta=[-0.05687464 -0.5145179 ]\n",
      "\n",
      "\n",
      "\n",
      "\n",
      "iteration 13\n",
      "truth=-1  pr(true label)=0.5\n",
      "truth=1  pr(true label)=0.484428\n",
      "truth=-1  pr(true label)=0.65079\n",
      "truth=-1  pr(true label)=0.65079\n",
      "truth=-1  pr(true label)=0.515572\n",
      "truth=1  pr(true label)=0.34921\n",
      "truth=1  pr(true label)=0.5\n",
      "truth=-1  pr(true label)=0.6365\n",
      "old error=5.15657   new error=5.13655  theta=[-0.06230634 -0.56020608]\n",
      "\n",
      "\n",
      "\n",
      "\n",
      "iteration 14\n",
      "truth=-1  pr(true label)=0.5\n",
      "truth=1  pr(true label)=0.484017\n",
      "truth=-1  pr(true label)=0.660444\n",
      "truth=-1  pr(true label)=0.660444\n",
      "truth=-1  pr(true label)=0.515983\n",
      "truth=1  pr(true label)=0.339556\n",
      "truth=1  pr(true label)=0.5\n",
      "truth=-1  pr(true label)=0.645958\n",
      "old error=5.13655   new error=5.12043  theta=[-0.06395511 -0.60131913]\n",
      "\n",
      "\n",
      "\n",
      "\n",
      "iteration 15\n",
      "truth=-1  pr(true label)=0.5\n",
      "truth=1  pr(true label)=0.484349\n",
      "truth=-1  pr(true label)=0.668457\n",
      "truth=-1  pr(true label)=0.668457\n",
      "truth=-1  pr(true label)=0.515651\n",
      "truth=1  pr(true label)=0.331543\n",
      "truth=1  pr(true label)=0.5\n",
      "truth=-1  pr(true label)=0.654435\n",
      "old error=5.12043   new error=5.10712  theta=[-0.06262519 -0.63859007]\n",
      "\n",
      "\n",
      "\n",
      "\n",
      "iteration 16\n",
      "truth=-1  pr(true label)=0.5\n",
      "truth=1  pr(true label)=0.485265\n",
      "truth=-1  pr(true label)=0.675149\n",
      "truth=-1  pr(true label)=0.675149\n",
      "truth=-1  pr(true label)=0.514735\n",
      "truth=1  pr(true label)=0.324851\n",
      "truth=1  pr(true label)=0.5\n",
      "truth=-1  pr(true label)=0.662087\n",
      "old error=5.10712   new error=5.09585  theta=[-0.05895781 -0.67260946]\n",
      "\n",
      "\n",
      "\n",
      "\n",
      "iteration 17\n",
      "truth=-1  pr(true label)=0.5\n",
      "truth=1  pr(true label)=0.486637\n",
      "truth=-1  pr(true label)=0.680772\n",
      "truth=-1  pr(true label)=0.680772\n",
      "truth=-1  pr(true label)=0.513363\n",
      "truth=1  pr(true label)=0.319228\n",
      "truth=1  pr(true label)=0.5\n",
      "truth=-1  pr(true label)=0.669042\n",
      "old error=5.09585   new error=5.08612  theta=[-0.05346604 -0.70385601]\n",
      "\n",
      "\n"
     ]
    },
    {
     "data": {
      "text/plain": [
       "array([-0.05346604, -0.70385601])"
      ]
     },
     "execution_count": 16,
     "metadata": {},
     "output_type": "execute_result"
    },
    {
     "data": {
      "image/png": "[encoded data removed]",
      "text/plain": [
       "<Figure size 432x288 with 1 Axes>"
      ]
     },
     "metadata": {},
     "output_type": "display_data"
    }
   ],
   "source": [
    "theta = npa([1.,1.])\n",
    "gradient_descent(gradient_logistic, nll, theta, \n",
    "                 .1, D, .01, 50)"
   ]
  },
  {
   "cell_type": "code",
   "execution_count": 17,
   "metadata": {},
   "outputs": [
    {
     "name": "stdout",
     "output_type": "stream",
     "text": [
      "truth=-1  pr(true label)=0.5\n",
      "truth=1  pr(true label)=0.731059\n",
      "truth=-1  pr(true label)=0.119203\n",
      "truth=-1  pr(true label)=0.119203\n",
      "truth=-1  pr(true label)=0.268941\n",
      "truth=1  pr(true label)=0.880797\n",
      "truth=1  pr(true label)=0.5\n",
      "truth=-1  pr(true label)=0.268941\n",
      "\n",
      "\n",
      "iteration 1\n",
      "truth=-1  pr(true label)=0.5\n",
      "truth=1  pr(true label)=0.248896\n",
      "truth=-1  pr(true label)=0.922582\n",
      "truth=-1  pr(true label)=0.922582\n",
      "truth=-1  pr(true label)=0.751104\n",
      "truth=1  pr(true label)=0.0774179\n",
      "truth=1  pr(true label)=0.5\n",
      "truth=-1  pr(true label)=0.797937\n",
      "old error=8.70686   new error=6.00865  theta=[-1.10450839 -1.37344981]\n",
      "\n",
      "\n",
      "\n",
      "\n",
      "iteration 2\n",
      "truth=-1  pr(true label)=0.5\n",
      "truth=1  pr(true label)=0.541267\n",
      "truth=-1  pr(true label)=0.655278\n",
      "truth=-1  pr(true label)=0.655278\n",
      "truth=-1  pr(true label)=0.458733\n",
      "truth=1  pr(true label)=0.344722\n",
      "truth=1  pr(true label)=0.5\n",
      "truth=-1  pr(true label)=0.691633\n",
      "old error=6.00865   new error=5.05853  theta=[ 0.16544566 -0.80776659]\n",
      "\n",
      "\n",
      "\n",
      "\n",
      "iteration 3\n",
      "truth=-1  pr(true label)=0.5\n",
      "truth=1  pr(true label)=0.512184\n",
      "truth=-1  pr(true label)=0.750551\n",
      "truth=-1  pr(true label)=0.750551\n",
      "truth=-1  pr(true label)=0.487816\n",
      "truth=1  pr(true label)=0.249449\n",
      "truth=1  pr(true label)=0.5\n",
      "truth=-1  pr(true label)=0.759566\n",
      "old error=5.05853   new error=5.01059  theta=[ 0.04874477 -1.15029945]\n",
      "\n",
      "\n",
      "\n",
      "\n",
      "iteration 4\n",
      "truth=-1  pr(true label)=0.5\n",
      "truth=1  pr(true label)=0.568573\n",
      "truth=-1  pr(true label)=0.703297\n",
      "truth=-1  pr(true label)=0.703297\n",
      "truth=-1  pr(true label)=0.431427\n",
      "truth=1  pr(true label)=0.296703\n",
      "truth=1  pr(true label)=0.5\n",
      "truth=-1  pr(true label)=0.757511\n",
      "old error=5.01059   new error=4.98827  theta=[ 0.27603109 -1.13907997]\n",
      "\n",
      "\n",
      "\n",
      "\n",
      "iteration 5\n",
      "truth=-1  pr(true label)=0.5\n",
      "truth=1  pr(true label)=0.561875\n",
      "truth=-1  pr(true label)=0.735537\n",
      "truth=-1  pr(true label)=0.735537\n",
      "truth=-1  pr(true label)=0.438125\n",
      "truth=1  pr(true label)=0.264463\n",
      "truth=1  pr(true label)=0.5\n",
      "truth=-1  pr(true label)=0.78103\n",
      "old error=4.98827   new error=4.97953  theta=[ 0.24877701 -1.27167751]\n",
      "\n",
      "\n"
     ]
    },
    {
     "data": {
      "text/plain": [
       "array([ 0.24877701, -1.27167751])"
      ]
     },
     "execution_count": 17,
     "metadata": {},
     "output_type": "execute_result"
    },
    {
     "data": {
      "image/png": "[encoded data removed]",
      "text/plain": [
       "<Figure size 432x288 with 1 Axes>"
      ]
     },
     "metadata": {},
     "output_type": "display_data"
    }
   ],
   "source": [
    "# What if learning is large?\n",
    "theta = npa([1.,1.])\n",
    "gradient_descent(gradient_logistic, nll, theta,\n",
    "                 1, D, .01, 50)\n",
    "# In this case, we converge in fewer iterations.\n",
    "# For larger examples, we may have issues of stepping over the minimum."
   ]
  }
 ],
 "metadata": {
  "kernelspec": {
   "display_name": "Python 3",
   "language": "python",
   "name": "python3"
  },
  "language_info": {
   "codemirror_mode": {
    "name": "ipython",
    "version": 3
   },
   "file_extension": ".py",
   "mimetype": "text/x-python",
   "name": "python",
   "nbconvert_exporter": "python",
   "pygments_lexer": "ipython3",
   "version": "3.7.0"
  }
 },
 "nbformat": 4,
 "nbformat_minor": 2
}
