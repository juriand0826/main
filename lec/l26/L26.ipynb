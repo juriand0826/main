{
 "cells": [
  {
   "cell_type": "markdown",
   "metadata": {},
   "source": [
    "# CS579: Lecture 26\n",
    "*[Dr. Aron Culotta](http://cs.iit.edu/~culotta)*  \n",
    "*[Illinois Institute of Technology](http://iit.edu)*"
   ]
  },
  {
   "cell_type": "markdown",
   "metadata": {},
   "source": [
    "\n",
    "## Crisis response\n",
    "\n",
    "**Ushahidi**\n",
    "![ushahidi](ushahidi.png)\n",
    "\n",
    "\n",
    "<br><br><br><br>\n",
    "\n",
    "## Public Health\n",
    "\n",
    "![cholera](cholera.png)\n",
    "\n",
    "<br><br><br><br>\n",
    "\n",
    "![depression](depression.png)\n",
    "\n",
    "<br><br><br><br>\n",
    "\n",
    "![fda](fda.png)\n",
    "\n",
    "\n",
    "\n",
    "<br><br><br><br>\n",
    "\n",
    "**but...**\n",
    "\n",
    "<br><br><br><br>\n",
    "\n",
    "## Harrassment\n",
    "\n",
    "![bully](bully.png)\n",
    "\n",
    "<br><br><br><br>\n",
    "\n",
    "## Misinformation\n",
    "\n",
    "![shark](shark.png)\n",
    "\n",
    "<br><br><br><br>\n",
    "\n",
    "## Filter Bubbles\n",
    "\n",
    "![bubble](bubble.jpg)\n",
    "\n",
    "\n",
    "<br><br><br><br>\n",
    "\n",
    "## End of social media?\n",
    "\n",
    "\n",
    "![aoc](aoc.png)"
   ]
  }
 ],
 "metadata": {
  "kernelspec": {
   "display_name": "Python 3",
   "language": "python",
   "name": "python3"
  },
  "language_info": {
   "codemirror_mode": {
    "name": "ipython",
    "version": 3
   },
   "file_extension": ".py",
   "mimetype": "text/x-python",
   "name": "python",
   "nbconvert_exporter": "python",
   "pygments_lexer": "ipython3",
   "version": "3.7.3"
  }
 },
 "nbformat": 4,
 "nbformat_minor": 2
}
