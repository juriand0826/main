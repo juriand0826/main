{
 "cells": [
  {
   "cell_type": "markdown",
   "metadata": {
    "slideshow": {
     "slide_type": "slide"
    }
   },
   "source": [
    "# CS579: Lecture 10  \n",
    "\n",
    "**Sentiment Analysis**\n",
    "\n",
    "*[Dr. Aron Culotta](http://cs.iit.edu/~culotta)*  \n",
    "*[Illinois Institute of Technology](http://iit.edu)*\n",
    "\n",
    "*Warning: Live Twitter data is used below, some or all of which may be offensive.*"
   ]
  },
  {
   "cell_type": "markdown",
   "metadata": {},
   "source": [
    "# Midterm review \n",
    "\n",
    "~5 True/False, ~6 short answer\n",
    "\n",
    "Covers all topics up through Wed 2/20 Lecture.\n",
    "\n",
    "**Topics:** \n",
    "- Twitter API \n",
    " - what comes in a tweet? \n",
    " - how do rate limits work? \n",
    " - can you understand API documentation? \n",
    "- graph basics: \n",
    " - directed/undirected \n",
    " - path \n",
    " - cycle \n",
    " - connected \n",
    " - connected component \n",
    " - degree (distribution) \n",
    " - diameter \n",
    " - average path length \n",
    " - clustering coefficient \n",
    "- modeling networks \n",
    " - random graphs \n",
    " - regular graphs \n",
    " - rewired graphs \n",
    " - what makes a small world? \n",
    "- community detection \n",
    " - girvan-newman (betweenness) \n",
    " - graph cuts \n",
    " - representing graphs with matrices \n",
    " - graph laplacian \n",
    "- link prediction \n",
    " - shortest path \n",
    " - common neighbors \n",
    " - jaccard \n",
    " - preferential attachment \n",
    " - sim rank \n",
    " - evaluation \n",
    "- information cascades \n",
    " - urn experiment \n",
    " - bayes' theorem for decision making \n",
    " - game-theoretic model \n",
    " - maximizing payoff \n",
    "\t- cluster density \n",
    "- sentiment analysis \n",
    " - lexicon approach \n",
    " - machine learning \n",
    " \n",
    "**Question types:** \n",
    "- What does this algorithm output? \n",
    " - E.g., what is jaccard score for a specific link? \n",
    " - E.g., what is the next step in girvan-newman? \n",
    "- What does this code do? \n",
    " - E.g., I give you a new graph-generating algorithm, tell me what it produces \n",
    "- Write a new algorithm \n",
    " - E.g., provide pseudo-code the linear-threshold cascade model \n",
    "- True/False \n",
    " - E.g., small world graphs have higher clustering coefficients than random graphs."
   ]
  },
  {
   "cell_type": "markdown",
   "metadata": {
    "slideshow": {
     "slide_type": "slide"
    }
   },
   "source": [
    "<br><br><br>\n",
    "\n",
    "## Content Analysis\n",
    "\n",
    "Rather than just analyzing a network, we will now turn to analyzing what is said within the network.\n",
    "\n",
    "### Sentiment Analysis\n",
    "\n",
    "**sen·ti·ment**\n",
    "\n",
    "1. a view of or attitude toward a situation or event; an opinion.\n",
    "2. a feeling or emotion.\n"
   ]
  },
  {
   "cell_type": "markdown",
   "metadata": {
    "slideshow": {
     "slide_type": "slide"
    }
   },
   "source": [
    "**sen·ti·ment &nbsp; a·nal·y·sis ** \n",
    "\n",
    "1. classification of documents/messages by sentiment"
   ]
  },
  {
   "cell_type": "markdown",
   "metadata": {
    "slideshow": {
     "slide_type": "slide"
    }
   },
   "source": [
    "# Examples"
   ]
  },
  {
   "cell_type": "markdown",
   "metadata": {
    "slideshow": {
     "slide_type": "slide"
    }
   },
   "source": [
    "![tmnt.png](tmnt.png)"
   ]
  },
  {
   "cell_type": "markdown",
   "metadata": {
    "slideshow": {
     "slide_type": "slide"
    }
   },
   "source": [
    "![ufo](ufo.png)\n",
    "\n",
    "![ufo-review](ufo-review.png)"
   ]
  },
  {
   "cell_type": "markdown",
   "metadata": {
    "slideshow": {
     "slide_type": "slide"
    }
   },
   "source": [
    "![mcds](mcds.png)"
   ]
  },
  {
   "cell_type": "markdown",
   "metadata": {
    "slideshow": {
     "slide_type": "slide"
    }
   },
   "source": [
    "![rauner](rauner.png)\n",
    "![quinn](quinn.png)"
   ]
  },
  {
   "cell_type": "markdown",
   "metadata": {
    "slideshow": {
     "slide_type": "slide"
    }
   },
   "source": [
    "## Why is this hard?\n",
    "\n",
    "<br><br>\n"
   ]
  },
  {
   "cell_type": "markdown",
   "metadata": {
    "slideshow": {
     "slide_type": "slide"
    }
   },
   "source": [
    "# Two Approaches\n",
    "\n",
    "- Lexicons (word lists)\n",
    "\n",
    "- Machine learning"
   ]
  },
  {
   "cell_type": "markdown",
   "metadata": {
    "slideshow": {
     "slide_type": "slide"
    }
   },
   "source": [
    "# Lexicons\n",
    "\n",
    "- List of terms with positive/negative/neutral sentiment\n",
    "\n",
    "- E.g., AFINN: http://neuro.imm.dtu.dk/wiki/AFINN\n"
   ]
  },
  {
   "cell_type": "code",
   "execution_count": 41,
   "metadata": {},
   "outputs": [
    {
     "name": "stdout",
     "output_type": "stream",
     "text": [
      "read 2462 AFINN terms.\n",
      "E.g.: [('abandon', -2), ('abandoned', -2), ('abandons', -2), ('abducted', -2), ('abduction', -2), ('abductions', -2), ('abhor', -3), ('abhorred', -3), ('abhorrent', -3), ('abhors', -3)]\n"
     ]
    }
   ],
   "source": [
    "# Download the AFINN lexicon, unzip, and read the latest word list in AFINN-111.txt\n",
    "from collections import defaultdict\n",
    "from io import BytesIO\n",
    "from zipfile import ZipFile\n",
    "from urllib.request import urlopen\n",
    "\n",
    "url = urlopen('http://www2.compute.dtu.dk/~faan/data/AFINN.zip')\n",
    "zipfile = ZipFile(BytesIO(url.read()))\n",
    "afinn_file = zipfile.open('AFINN/AFINN-111.txt')\n",
    "\n",
    "afinn = dict()\n",
    "\n",
    "for line in afinn_file:\n",
    "    parts = line.strip().split()\n",
    "    if len(parts) == 2:\n",
    "        afinn[parts[0].decode(\"utf-8\")] = int(parts[1])\n",
    "\n",
    "print('read %d AFINN terms.\\nE.g.: %s' % (len(afinn), \n",
    "                                          str(list(afinn.items())[:10])))"
   ]
  },
  {
   "cell_type": "code",
   "execution_count": 42,
   "metadata": {},
   "outputs": [
    {
     "data": {
      "text/plain": [
       "2462"
      ]
     },
     "execution_count": 42,
     "metadata": {},
     "output_type": "execute_result"
    }
   ],
   "source": [
    "len(afinn)"
   ]
  },
  {
   "cell_type": "code",
   "execution_count": 43,
   "metadata": {},
   "outputs": [
    {
     "data": {
      "image/png": "[encoded data removed]",
      "text/plain": [
       "<Figure size 432x288 with 1 Axes>"
      ]
     },
     "metadata": {},
     "output_type": "display_data"
    }
   ],
   "source": [
    "# What is the distribution of scores?\n",
    "from collections import Counter\n",
    "import matplotlib.pyplot as plt\n",
    "%matplotlib inline\n",
    "\n",
    "counts = Counter(afinn.values())\n",
    "vals = sorted(counts.keys())\n",
    "\n",
    "plt.bar(vals, counts.values())\n",
    "plt.xticks(vals)\n",
    "plt.xlabel('negative <--       sentiment       --> positive')\n",
    "plt.ylabel('count')\n",
    "plt.show()"
   ]
  },
  {
   "cell_type": "code",
   "execution_count": 44,
   "metadata": {},
   "outputs": [
    {
     "name": "stdout",
     "output_type": "stream",
     "text": [
      "\tscam=-2\n",
      "\tbroken=-1\n",
      "AFINN:  -3.0\n"
     ]
    }
   ],
   "source": [
    "# How should we score a document?\n",
    "\n",
    "\n",
    "def afinn_sentiment(terms, afinn):\n",
    "    total = 0.\n",
    "    for t in terms:\n",
    "        if t in afinn:\n",
    "            print('\\t%s=%d' % (t, afinn[t]))\n",
    "            total += afinn[t]\n",
    "    return total\n",
    "    \n",
    "doc = \"i don't know if this is a scam or if mine was broken\".split()\n",
    "print('AFINN: ', afinn_sentiment(doc, afinn))"
   ]
  },
  {
   "cell_type": "code",
   "execution_count": 45,
   "metadata": {},
   "outputs": [
    {
     "name": "stdout",
     "output_type": "stream",
     "text": [
      "\tgood=3\n",
      "\tbad=-3\n",
      "AFINN:  0.0\n"
     ]
    }
   ],
   "source": [
    "# What if mixed sentiment?\n",
    "doc = \"it has a hokey plot that is both too good and bad\".split()\n",
    "print('AFINN: ', afinn_sentiment(doc, afinn))"
   ]
  },
  {
   "cell_type": "code",
   "execution_count": 46,
   "metadata": {},
   "outputs": [
    {
     "name": "stdout",
     "output_type": "stream",
     "text": [
      "\tgood=3\n",
      "\tbad=-3\n",
      "AFINN: (3, 3)\n"
     ]
    }
   ],
   "source": [
    "\n",
    "\n",
    "# Distinguish neutral from pos/neg.\n",
    "# Return two scores per document.\n",
    "def afinn_sentiment2(terms, afinn, verbose=False):\n",
    "    pos = 0\n",
    "    neg = 0\n",
    "    for t in terms:\n",
    "        if t in afinn:\n",
    "            if verbose:\n",
    "                print('\\t%s=%d' % (t, afinn[t]))\n",
    "            if afinn[t] > 0:\n",
    "                pos += afinn[t]\n",
    "            else:\n",
    "                neg += -1 * afinn[t]\n",
    "    return pos, neg\n",
    "\n",
    "doc = \"it has a hokey plot that is both to good and bad\".split()\n",
    "print('AFINN:', afinn_sentiment2(doc, afinn, verbose=True))"
   ]
  },
  {
   "cell_type": "code",
   "execution_count": 47,
   "metadata": {},
   "outputs": [
    {
     "name": "stdout",
     "output_type": "stream",
     "text": [
      "\tbad=-3\n",
      "AFINN: (0, 3)\n"
     ]
    }
   ],
   "source": [
    "doc = \"the plot is not bad\".split()\n",
    "print('AFINN:', afinn_sentiment2(doc, afinn, verbose=True))"
   ]
  },
  {
   "cell_type": "code",
   "execution_count": 48,
   "metadata": {},
   "outputs": [],
   "source": [
    "import configparser\n",
    "from TwitterAPI import TwitterAPI\n",
    "\n",
    "# Get some tweets about McDonald's\n",
    "\n",
    "def get_twitter(config_file):\n",
    "    \"\"\" Read the config_file and construct an instance of TwitterAPI.\n",
    "    Args:\n",
    "      config_file ... A config file in ConfigParser format with Twitter credentials\n",
    "    Returns:\n",
    "      An instance of TwitterAPI.\n",
    "    \"\"\"\n",
    "    config = configparser.ConfigParser()\n",
    "    config.read(config_file)\n",
    "    twitter = TwitterAPI(\n",
    "                   config.get('twitter', 'consumer_key'),\n",
    "                   config.get('twitter', 'consumer_secret'),\n",
    "                   config.get('twitter', 'access_token'),\n",
    "                   config.get('twitter', 'access_token_secret'))\n",
    "    return twitter\n",
    "\n",
    "twitter = get_twitter('twitter.cfg')\n",
    "tweets = []\n",
    "for r in twitter.request('search/tweets',\n",
    "                         {'q': 'mcdonalds', 'count': 100}):\n",
    "    if r['user']['screen_name'] != 'mcdonalds': # exclude tweets from @mcdonalds\n",
    "        tweets.append(r)"
   ]
  },
  {
   "cell_type": "code",
   "execution_count": 49,
   "metadata": {},
   "outputs": [
    {
     "name": "stdout",
     "output_type": "stream",
     "text": [
      "read 100 mcdonalds tweets\n"
     ]
    }
   ],
   "source": [
    "print('read %d mcdonalds tweets' % len(tweets))"
   ]
  },
  {
   "cell_type": "code",
   "execution_count": 50,
   "metadata": {
    "scrolled": true
   },
   "outputs": [
    {
     "name": "stdout",
     "output_type": "stream",
     "text": [
      "tokenized, e.g., \n",
      "RT @salmanbutt_03: jordyn woods, sofia richie, and blac chyna at their local mcdonalds right now\n",
      "https://t.co/BEoVPCaoYw\n",
      "to\n",
      "['rt', 'salmanbutt_03', 'jordyn', 'woods', 'sofia', 'richie', 'and', 'blac', 'chyna', 'at', 'their', 'local', 'mcdonalds', 'right', 'now', 'https', 't', 'co', 'beovpcaoyw']\n"
     ]
    }
   ],
   "source": [
    "# Tokenize tweets\n",
    "import re\n",
    "\n",
    "# \\w = [a-zA-Z0-9_]\n",
    "def tokenize(text):\n",
    "    return re.sub('\\W+', ' ', text.lower()).split()\n",
    "\n",
    "tokens = [tokenize(t['text']) for t in tweets]\n",
    "print('tokenized, e.g., \\n%s\\nto\\n%s' % \n",
    "      (tweets[6]['text'], tokens[10]))\n",
    "#tweets[50]['user']['name']\n",
    "# tweets[50]['user']['screen_name']"
   ]
  },
  {
   "cell_type": "code",
   "execution_count": 51,
   "metadata": {},
   "outputs": [
    {
     "data": {
      "text/plain": [
       "['hi',\n",
       " 'there',\n",
       " 'how',\n",
       " 'are',\n",
       " 'you',\n",
       " 'don',\n",
       " 't',\n",
       " 'you',\n",
       " 'awesome',\n",
       " 'awesome',\n",
       " 'http',\n",
       " 'www',\n",
       " 'good',\n",
       " 'com']"
      ]
     },
     "execution_count": 51,
     "metadata": {},
     "output_type": "execute_result"
    }
   ],
   "source": [
    "tokenize(\"Hi there how are you? Don't you ... #awesome @awesome http://www.good.com\")"
   ]
  },
  {
   "cell_type": "code",
   "execution_count": 52,
   "metadata": {},
   "outputs": [],
   "source": [
    "positives = []\n",
    "negatives = []\n",
    "for token_list, tweet in zip(tokens, tweets):\n",
    "    pos, neg = afinn_sentiment2(token_list, afinn)\n",
    "    if pos > neg:\n",
    "        positives.append((tweet['text'], pos, neg))\n",
    "    elif neg > pos:\n",
    "        negatives.append((tweet['text'], pos, neg))"
   ]
  },
  {
   "cell_type": "code",
   "execution_count": 53,
   "metadata": {},
   "outputs": [
    {
     "data": {
      "text/plain": [
       "8"
      ]
     },
     "execution_count": 53,
     "metadata": {},
     "output_type": "execute_result"
    }
   ],
   "source": [
    "len(negatives)"
   ]
  },
  {
   "cell_type": "code",
   "execution_count": 54,
   "metadata": {},
   "outputs": [
    {
     "data": {
      "text/plain": [
       "10"
      ]
     },
     "execution_count": 54,
     "metadata": {},
     "output_type": "execute_result"
    }
   ],
   "source": [
    "len(positives)"
   ]
  },
  {
   "cell_type": "code",
   "execution_count": 55,
   "metadata": {
    "scrolled": false
   },
   "outputs": [
    {
     "name": "stdout",
     "output_type": "stream",
     "text": [
      "4 0 @Mi_veloso YES! We’re so excited for you, Mirella! Get your minty on!\n",
      "4 1 Wow, forget about Tim Hortons, McDonalds is giving away the real stuff! #Sens #MelnykOut https://t.co/NUzrfWN1ev\n",
      "3 0 As part of the BIG Ashfield Spring Clean the McDonalds McOpCo team carried out a litter pick yesterday at their Kin… https://t.co/lDRct71HXs\n",
      "2 0 RT @nicoletteannmc: Valentines day isn't over yet at Mcdonalds Sta. Clara!!😍 congratulations to the newly engaged couple!😍 #Mayforeversamcd…\n",
      "2 0 @McDonalds I looked down the scorching hot hole on top of cup but didnt see anything. @joerogan https://t.co/b2RxuIlNaa\n",
      "2 0 RT @nicoletteannmc: Valentines day isn't over yet at Mcdonalds Sta. Clara!!😍 congratulations to the newly engaged couple!😍 #Mayforeversamcd…\n",
      "1 0 McDonald’s expands global headquarters’ menu with new items https://t.co/ziWucWfn2p\n",
      "1 0 I want @BurgerKing fries right now more than everything and definitely more than @McDonalds\n",
      "1 0 @GegenDepress @mboreham1 @Evertxn @fvr77 A UBI does not motivate someone who works at McDonalds to go for more. Fin… https://t.co/Un31xlYoMd\n",
      "1 0 @tailopez Yes\n",
      "Ray Kroc didn't start McDonalds though.\n"
     ]
    }
   ],
   "source": [
    "# Print top positives:\n",
    "for tweet, pos, neg in sorted(positives,\n",
    "                              key=lambda x: x[1],\n",
    "                              reverse=True):\n",
    "    print(pos, neg, tweet)"
   ]
  },
  {
   "cell_type": "code",
   "execution_count": 57,
   "metadata": {},
   "outputs": [
    {
     "name": "stdout",
     "output_type": "stream",
     "text": [
      "\twant=1\n"
     ]
    },
    {
     "data": {
      "text/plain": [
       "(1, 0)"
      ]
     },
     "execution_count": 57,
     "metadata": {},
     "output_type": "execute_result"
    }
   ],
   "source": [
    "afinn_sentiment2(tokenize('I want @BurgerKing fries right now more than everything and definitely more than @McDonalds'),\n",
    "                 afinn, verbose=True)"
   ]
  },
  {
   "cell_type": "code",
   "execution_count": 58,
   "metadata": {
    "scrolled": false
   },
   "outputs": [
    {
     "name": "stdout",
     "output_type": "stream",
     "text": [
      "0 6 No no no no no no MCDONALDS!!!!!!!!\n",
      "0 4 my cheap ass will always think mcdonalds when my friends say they wanna go eat somewhere\n",
      "0 3 omg david was deadass wearing those ugly mcdonalds pants in james’ video im- what have you done @carlyincontro https://t.co/0WHCOE8czj\n",
      "0 2 Also, I am a regular at McDonalds and for my sister to be treated as such is unacceptable. Thankfully, the one in p… https://t.co/ZHJHsLLCR8\n",
      "0 2 @tailopez ray kroc started the mcdonalds CORPORATION if im not mistaken, it was founded by the mcdonalds brothers but yea, just a nitpick\n",
      "0 1 Oye ya po. Hasta cuando no disponible McDonald's en Uber Eats?! \n",
      "\n",
      "QUIERO MI CUARTO DE LIBRA AHOOORAAAA!!!!!! @McDonalds_Cl @UberEats_Chile\n",
      "0 1 RT @VVickypalawan: Why are you at mcdonalds at 10am veronica? You no life ah. https://t.co/zAoHqUm6Dq\n",
      "0 1 RT @VVickypalawan: Why are you at mcdonalds at 10am veronica? You no life ah. https://t.co/zAoHqUm6Dq\n"
     ]
    }
   ],
   "source": [
    "# Print top negatives:\n",
    "for tweet, pos, neg in sorted(negatives, key=lambda x: x[2], reverse=True):\n",
    "    print(pos, neg, tweet)"
   ]
  },
  {
   "cell_type": "code",
   "execution_count": 59,
   "metadata": {},
   "outputs": [
    {
     "name": "stdout",
     "output_type": "stream",
     "text": [
      "\tunacceptable=-2\n"
     ]
    },
    {
     "data": {
      "text/plain": [
       "(0, 2)"
      ]
     },
     "execution_count": 59,
     "metadata": {},
     "output_type": "execute_result"
    }
   ],
   "source": [
    "afinn_sentiment2(tokenize(\"Also, I am a regular at McDonalds and for my sister to be treated as such is unacceptable. Thankfully, the one in p\"),\n",
    "                 afinn, verbose=True)"
   ]
  },
  {
   "cell_type": "markdown",
   "metadata": {},
   "source": [
    "# Sentiment Trends?\n",
    "![politico](politico.png)\n",
    "\n",
    "What can go wrong?\n",
    "\n",
    "<br><br><br><br>"
   ]
  },
  {
   "cell_type": "code",
   "execution_count": 60,
   "metadata": {},
   "outputs": [
    {
     "name": "stdout",
     "output_type": "stream",
     "text": [
      "                  no count=9 sentiment=-1\n",
      "     congratulations count=2 sentiment=2\n",
      "                 yes count=2 sentiment=1\n",
      "                 top count=1 sentiment=2\n",
      "             expands count=1 sentiment=1\n",
      "                ugly count=1 sentiment=-3\n",
      "             excited count=1 sentiment=3\n",
      "                 wow count=1 sentiment=4\n",
      "              forget count=1 sentiment=-1\n",
      "                want count=1 sentiment=1\n",
      "            motivate count=1 sentiment=1\n"
     ]
    }
   ],
   "source": [
    "# Which words contribute most to sentiment?\n",
    "all_counts = Counter()\n",
    "for tweet in tokens:\n",
    "    all_counts.update(tweet)\n",
    "sorted_tokens = sorted(all_counts.items(),\n",
    "                       key=lambda x:x[1],\n",
    "                       reverse=True)\n",
    "i = 0\n",
    "for token, count in sorted_tokens:\n",
    "    if token in afinn:\n",
    "        print('%20s count=%d sentiment=%d' % (token, count, afinn[token]))\n",
    "        i += 1\n",
    "        if i > 10:\n",
    "            break"
   ]
  },
  {
   "cell_type": "code",
   "execution_count": 61,
   "metadata": {
    "scrolled": true
   },
   "outputs": [
    {
     "data": {
      "text/plain": [
       "[['mi_veloso',\n",
       "  'yes',\n",
       "  'we',\n",
       "  're',\n",
       "  'so',\n",
       "  'excited',\n",
       "  'for',\n",
       "  'you',\n",
       "  'mirella',\n",
       "  'get',\n",
       "  'your',\n",
       "  'minty',\n",
       "  'on'],\n",
       " ['tailopez',\n",
       "  'yes',\n",
       "  'ray',\n",
       "  'kroc',\n",
       "  'didn',\n",
       "  't',\n",
       "  'start',\n",
       "  'mcdonalds',\n",
       "  'though']]"
      ]
     },
     "execution_count": 61,
     "metadata": {},
     "output_type": "execute_result"
    }
   ],
   "source": [
    "[t for t in tokens if 'yes' in t]"
   ]
  },
  {
   "cell_type": "markdown",
   "metadata": {},
   "source": [
    "# Part of speech?\n",
    "\n",
    "> *I hate McDonlads.*  \n",
    "> *Hate speech is wrong.*\n",
    "\n",
    "> *Rauner is lying.*  \n",
    "> *Lying in bed with the flu.*\n",
    "\n",
    "Noun/verb/adjective form of term may have different sentiment."
   ]
  },
  {
   "cell_type": "markdown",
   "metadata": {
    "slideshow": {
     "slide_type": "slide"
    }
   },
   "source": [
    "# WordNet\n",
    "\n",
    "- A database of words and their relations\n",
    "- http://wordnet.princeton.edu/\n",
    "- Statistics: http://wordnet.princeton.edu/wordnet/man/wnstats.7WN.html"
   ]
  },
  {
   "cell_type": "markdown",
   "metadata": {
    "slideshow": {
     "slide_type": "slide"
    }
   },
   "source": [
    "# WordNet\n",
    "\n",
    "- **Synset:**\n",
    "  - A list of synonyms\n",
    "  - E.g. [dog](http://wordnetweb.princeton.edu/perl/webwn?s=dog&sub=Search+WordNet&o2=&o0=1&o8=1&o1=1&o7=&o5=&o9=&o6=&o3=&o4=&h=11000000000000000000001000000000)\n",
    "- **Hypernym:**\n",
    "  - Y is a Hypernym of X if every X is a kind of Y\n",
    "    - **canine** is a hypernym of **dog**\n",
    "- **Hyponym:**\n",
    "  - Y is a Hyponym of X if every Y is a kind of X\n",
    "    - **dog** is a hyponym of **canine**\n",
    "    \n",
    "<br><br><br>\n",
    "\n",
    "<img src=\"https://upload.wikimedia.org/wikipedia/en/1/1f/Hyponymsandhypernyms.jpg\">"
   ]
  },
  {
   "cell_type": "markdown",
   "metadata": {},
   "source": [
    "# SentiWordNet\n",
    "\n",
    "http://sentiwordnet.isti.cnr.it/\n",
    "\n",
    "![senti](senti.png)\n",
    "\n",
    "[source](http://nmis.isti.cnr.it/sebastiani/Publications/LREC06.pdf)"
   ]
  },
  {
   "cell_type": "code",
   "execution_count": 62,
   "metadata": {},
   "outputs": [
    {
     "name": "stdout",
     "output_type": "stream",
     "text": [
      "happy(a): negative_score=0.00 positive_score=0.88 objective_score=0.12\n"
     ]
    }
   ],
   "source": [
    "from nltk.corpus import sentiwordnet as swn\n",
    "# Depends on nltk (pip install nltk)\n",
    "# See http://www.nltk.org/data.html\n",
    "# must run nltk.download('sentiwordnet')\n",
    "happy = list(swn.senti_synsets('happy', 'a'))[0]\n",
    "\n",
    "print('happy(a): negative_score=%.2f positive_score=%.2f objective_score=%.2f' %\n",
    "      (happy.neg_score(), happy.pos_score(), happy.obj_score()))"
   ]
  },
  {
   "cell_type": "code",
   "execution_count": 63,
   "metadata": {},
   "outputs": [
    {
     "name": "stdout",
     "output_type": "stream",
     "text": [
      "hate(n): negative_score=0.38 positive_score=0.12 objective_score=0.50\n"
     ]
    }
   ],
   "source": [
    "hate = list(swn.senti_synsets('hate', 'n'))[0]\n",
    "\n",
    "print('hate(n): negative_score=%.2f positive_score=%.2f objective_score=%.2f' %\n",
    "      (hate.neg_score(), hate.pos_score(), hate.obj_score()))"
   ]
  },
  {
   "cell_type": "code",
   "execution_count": 64,
   "metadata": {},
   "outputs": [
    {
     "name": "stdout",
     "output_type": "stream",
     "text": [
      "hate(v): negative_score=0.75 positive_score=0.00 objective_score=0.25\n"
     ]
    }
   ],
   "source": [
    "hate = list(swn.senti_synsets('hate', 'v'))[0]\n",
    "\n",
    "print('hate(v): negative_score=%.2f positive_score=%.2f objective_score=%.2f' %\n",
    "      (hate.neg_score(), hate.pos_score(), hate.obj_score()))"
   ]
  },
  {
   "cell_type": "code",
   "execution_count": 65,
   "metadata": {},
   "outputs": [
    {
     "name": "stdout",
     "output_type": "stream",
     "text": [
      "good(a): negative_score=0.00 positive_score=0.75 objective_score=0.25\n"
     ]
    }
   ],
   "source": [
    "good = list(swn.senti_synsets('good', 'a'))[0]\n",
    "print('good(a): negative_score=%.2f positive_score=%.2f objective_score=%.2f' %\n",
    "      (good.neg_score(), good.pos_score(), good.obj_score()))"
   ]
  },
  {
   "cell_type": "code",
   "execution_count": 66,
   "metadata": {},
   "outputs": [
    {
     "data": {
      "text/plain": [
       "[SentiSynset('good.a.01'),\n",
       " SentiSynset('full.s.06'),\n",
       " SentiSynset('good.a.03'),\n",
       " SentiSynset('estimable.s.02'),\n",
       " SentiSynset('beneficial.s.01'),\n",
       " SentiSynset('good.s.06'),\n",
       " SentiSynset('good.s.07'),\n",
       " SentiSynset('adept.s.01'),\n",
       " SentiSynset('good.s.09'),\n",
       " SentiSynset('dear.s.02'),\n",
       " SentiSynset('dependable.s.04'),\n",
       " SentiSynset('good.s.12'),\n",
       " SentiSynset('good.s.13'),\n",
       " SentiSynset('effective.s.04'),\n",
       " SentiSynset('good.s.15'),\n",
       " SentiSynset('good.s.16'),\n",
       " SentiSynset('good.s.17'),\n",
       " SentiSynset('good.s.18'),\n",
       " SentiSynset('good.s.19'),\n",
       " SentiSynset('good.s.20'),\n",
       " SentiSynset('good.s.21')]"
      ]
     },
     "execution_count": 66,
     "metadata": {},
     "output_type": "execute_result"
    }
   ],
   "source": [
    "good = list(swn.senti_synsets('good', 'a'))\n",
    "good"
   ]
  },
  {
   "cell_type": "markdown",
   "metadata": {},
   "source": [
    "**We can't set these numbers all by hand.**\n",
    "\n",
    "**How can we come up with these numbers in a principled way??**\n",
    "\n",
    "$\\rightarrow$ Machine Learning"
   ]
  }
 ],
 "metadata": {
  "kernelspec": {
   "display_name": "Python 3",
   "language": "python",
   "name": "python3"
  },
  "language_info": {
   "codemirror_mode": {
    "name": "ipython",
    "version": 3
   },
   "file_extension": ".py",
   "mimetype": "text/x-python",
   "name": "python",
   "nbconvert_exporter": "python",
   "pygments_lexer": "ipython3",
   "version": "3.7.0"
  }
 },
 "nbformat": 4,
 "nbformat_minor": 1
}
