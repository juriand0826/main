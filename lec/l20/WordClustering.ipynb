{
 "cells": [
  {
   "cell_type": "markdown",
   "metadata": {},
   "source": [
    "# CS 579\n",
    "<br>\n",
    "\n",
    "## Clustering Words with K-Means\n",
    "\n",
    "<br>\n"
   ]
  },
  {
   "cell_type": "markdown",
   "metadata": {},
   "source": [
    "# Motivation\n",
    "\n",
    "Often, we want to know which features appear together.\n",
    "\n",
    "- If you liked *Twilight* you might like *Nosferatu*.\n",
    "- \"happy\" is a synonym of \"glad.\"\n",
    "\n",
    "Can be used to summarize a large collection of messages."
   ]
  },
  {
   "cell_type": "markdown",
   "metadata": {},
   "source": [
    "We'll use k-means to cluster together related words from Twitter.\n",
    "\n",
    "**Caution:** This uses live Twitter data, which often contains profanity."
   ]
  },
  {
   "cell_type": "code",
   "execution_count": 1,
   "metadata": {
    "scrolled": true
   },
   "outputs": [
    {
     "name": "stdout",
     "output_type": "stream",
     "text": [
      "100\n",
      "200\n",
      "300\n",
      "400\n",
      "500\n",
      "600\n",
      "700\n",
      "800\n",
      "900\n",
      "1000\n",
      "1100\n",
      "1200\n",
      "1300\n",
      "1400\n",
      "1500\n",
      "1600\n",
      "1700\n",
      "1800\n",
      "1900\n",
      "2000\n",
      "2100\n",
      "2200\n",
      "2300\n",
      "2400\n",
      "2500\n",
      "2600\n",
      "2700\n",
      "2800\n",
      "2900\n",
      "3000\n",
      "3100\n",
      "3200\n",
      "3300\n",
      "3400\n",
      "3500\n",
      "3600\n",
      "3700\n",
      "3800\n",
      "3900\n",
      "4000\n",
      "4100\n",
      "4200\n",
      "4300\n",
      "4400\n",
      "4500\n",
      "4600\n",
      "4700\n",
      "4800\n",
      "4900\n",
      "5000\n",
      "5100\n",
      "5200\n",
      "5300\n",
      "5400\n",
      "5500\n",
      "5600\n",
      "5700\n",
      "5800\n",
      "5900\n",
      "6000\n",
      "6100\n",
      "6200\n",
      "6300\n",
      "6400\n",
      "6500\n",
      "6600\n",
      "6700\n",
      "6800\n",
      "6900\n",
      "7000\n",
      "7100\n",
      "7200\n",
      "7300\n",
      "7400\n",
      "7500\n",
      "7600\n",
      "7700\n",
      "7800\n",
      "7900\n",
      "8000\n",
      "8100\n",
      "8200\n",
      "8300\n",
      "8400\n",
      "8500\n",
      "8600\n",
      "8700\n",
      "8800\n",
      "8900\n",
      "9000\n",
      "9100\n",
      "9200\n",
      "9300\n",
      "9400\n",
      "9500\n",
      "9600\n",
      "9700\n",
      "9800\n",
      "9900\n",
      "10000\n"
     ]
    }
   ],
   "source": [
    "# Get some tweets containing the word 'i'.\n",
    "\n",
    "import os\n",
    "from TwitterAPI import TwitterAPI\n",
    "\n",
    "# Read Twitter credentials from environmental variables.\n",
    "api = TwitterAPI(os.environ.get('TW_CONSUMER_KEY'),\n",
    "                 os.environ.get('TW_CONSUMER_SECRET'),\n",
    "                 os.environ.get('TW_ACCESS_TOKEN'),\n",
    "                 os.environ.get('TW_ACCESS_TOKEN_SECRET'))\n",
    "\n",
    "# Collect 10000 tweets.\n",
    "tweets = []\n",
    "while True: \n",
    "    r = api.request('statuses/filter', {'track':'i',\n",
    "                                        'language':'en'})\n",
    "    if r.status_code != 200: # error\n",
    "        break\n",
    "    else:\n",
    "        for item in r.get_iterator():\n",
    "            tweets.append(item)\n",
    "            if len(tweets) > 10000:\n",
    "                break\n",
    "            elif len(tweets) % 100 == 0:\n",
    "                print(len(tweets))\n"
   ]
  },
  {
   "cell_type": "code",
   "execution_count": 2,
   "metadata": {},
   "outputs": [
    {
     "name": "stdout",
     "output_type": "stream",
     "text": [
      "10002\n"
     ]
    }
   ],
   "source": [
    "print(len(tweets))"
   ]
  },
  {
   "cell_type": "code",
   "execution_count": 3,
   "metadata": {},
   "outputs": [
    {
     "name": "stdout",
     "output_type": "stream",
     "text": [
      "text RT @DavidWi23654143: Sugar babies $300 weekly. No bank info needed. PayPal or Cashapp. I have proof. RT if interested!!! ❤️❤️❤️ \n",
      "#sugarbaby…\n",
      "description: None\n",
      "name: P 👑\n",
      "location: None\n"
     ]
    }
   ],
   "source": [
    "# Each tweet is a Python dict.\n",
    "print('text', tweets[0]['text'])\n",
    "print('description:', tweets[0]['user']['description'])\n",
    "print('name:', tweets[0]['user']['name'])\n",
    "print('location:', tweets[0]['user']['location'])"
   ]
  },
  {
   "cell_type": "code",
   "execution_count": 4,
   "metadata": {},
   "outputs": [],
   "source": [
    "tweets = [t for t in tweets if 'text' in t]"
   ]
  },
  {
   "cell_type": "code",
   "execution_count": 5,
   "metadata": {
    "collapsed": true
   },
   "outputs": [
    {
     "data": {
      "text/plain": [
       "9806"
      ]
     },
     "execution_count": 5,
     "metadata": {},
     "output_type": "execute_result"
    }
   ],
   "source": [
    "len(tweets)"
   ]
  },
  {
   "cell_type": "code",
   "execution_count": 6,
   "metadata": {},
   "outputs": [
    {
     "data": {
      "text/plain": [
       "['rt',\n",
       " 'sugar',\n",
       " 'babies',\n",
       " 'weekly',\n",
       " 'no',\n",
       " 'bank',\n",
       " 'info',\n",
       " 'needed',\n",
       " 'paypal',\n",
       " 'or',\n",
       " 'cashapp',\n",
       " 'i',\n",
       " 'have',\n",
       " 'proof',\n",
       " 'rt',\n",
       " 'if',\n",
       " 'interested',\n",
       " 'sugarbaby']"
      ]
     },
     "execution_count": 6,
     "metadata": {},
     "output_type": "execute_result"
    }
   ],
   "source": [
    "# Tokenize each tweet text.\n",
    "import re\n",
    "tokens = []\n",
    "for tweet in tweets:\n",
    "    text = tweet['text'].lower()\n",
    "    text = re.sub('@\\S+', ' ', text)  # Remove mentions.\n",
    "    text = re.sub('http\\S+', ' ', text)  # Remove urls.\n",
    "    tokens.append(re.findall('[A-Za-z]+', text)) # Retain words.\n",
    "tokens[0]"
   ]
  },
  {
   "cell_type": "code",
   "execution_count": 7,
   "metadata": {},
   "outputs": [],
   "source": [
    "# Count words.\n",
    "from collections import Counter\n",
    "\n",
    "word_counts = Counter()\n",
    "for tweet in tokens:\n",
    "    word_counts.update(tweet)"
   ]
  },
  {
   "cell_type": "code",
   "execution_count": 8,
   "metadata": {},
   "outputs": [
    {
     "name": "stdout",
     "output_type": "stream",
     "text": [
      "13187 unique terms\n"
     ]
    },
    {
     "data": {
      "text/plain": [
       "[('i', 11249),\n",
       " ('rt', 5609),\n",
       " ('the', 4014),\n",
       " ('to', 3601),\n",
       " ('a', 2929),\n",
       " ('and', 2425),\n",
       " ('you', 2373),\n",
       " ('my', 1995),\n",
       " ('m', 1846),\n",
       " ('it', 1743)]"
      ]
     },
     "execution_count": 8,
     "metadata": {},
     "output_type": "execute_result"
    }
   ],
   "source": [
    "# Inspect word counts.\n",
    "import math\n",
    "\n",
    "print(len(word_counts), 'unique terms')\n",
    "word_counts.most_common(10)"
   ]
  },
  {
   "cell_type": "code",
   "execution_count": 9,
   "metadata": {},
   "outputs": [
    {
     "name": "stdout",
     "output_type": "stream",
     "text": [
      "4119 words occur at least three times.\n"
     ]
    }
   ],
   "source": [
    "# Retain in vocabulary words occurring more than twice.\n",
    "vocab = set([w for w, c in word_counts.items() if c > 2])\n",
    "print('%d words occur at least three times.' % len(vocab))"
   ]
  },
  {
   "cell_type": "code",
   "execution_count": 10,
   "metadata": {},
   "outputs": [],
   "source": [
    "# Prune tokens.\n",
    "newtoks = []\n",
    "for i, tweet in enumerate(tokens):\n",
    "    newtok = [token for token in tweet if token in vocab]\n",
    "    if len(newtok) > 0:\n",
    "        newtoks.append(newtok)\n",
    "tokens = newtoks"
   ]
  },
  {
   "cell_type": "code",
   "execution_count": 11,
   "metadata": {},
   "outputs": [
    {
     "data": {
      "text/plain": [
       "['rt',\n",
       " 'sugar',\n",
       " 'babies',\n",
       " 'weekly',\n",
       " 'no',\n",
       " 'bank',\n",
       " 'info',\n",
       " 'needed',\n",
       " 'or',\n",
       " 'cashapp',\n",
       " 'i',\n",
       " 'have',\n",
       " 'proof',\n",
       " 'rt',\n",
       " 'if',\n",
       " 'interested']"
      ]
     },
     "execution_count": 11,
     "metadata": {},
     "output_type": "execute_result"
    }
   ],
   "source": [
    "# A sample pruned tweet.\n",
    "tokens[0]"
   ]
  },
  {
   "cell_type": "code",
   "execution_count": 12,
   "metadata": {},
   "outputs": [
    {
     "data": {
      "text/plain": [
       "['rt',\n",
       " 'oh',\n",
       " 'ok',\n",
       " 'actually',\n",
       " 'means',\n",
       " 'my',\n",
       " 'heart',\n",
       " 'just',\n",
       " 'got',\n",
       " 'ripped',\n",
       " 'into',\n",
       " 'a',\n",
       " 'million',\n",
       " 'pieces',\n",
       " 'but',\n",
       " 'i',\n",
       " 'won',\n",
       " 't',\n",
       " 'tell',\n",
       " 'you',\n",
       " 'because',\n",
       " 'you',\n",
       " 'wouldn',\n",
       " 't',\n",
       " 'give',\n",
       " 'a']"
      ]
     },
     "execution_count": 12,
     "metadata": {},
     "output_type": "execute_result"
    }
   ],
   "source": [
    "tokens[2]"
   ]
  },
  {
   "cell_type": "markdown",
   "metadata": {},
   "source": [
    "**Context features**\n",
    "\n",
    "To determine if two words are similar, we will create a feature vector that counts how often other words appear nearby.\n",
    "\n",
    "E.g.,\n",
    "\n",
    "> I really **love** school.\n",
    "\n",
    "> I really **like** school.\n",
    "\n",
    "> You **love** school.\n",
    "\n",
    "**love:** {really@-1: 1, school@1: 1, you@-1: 1}\n",
    "\n",
    "**like:** {really@-1: 1, school@1: 1}\n",
    "\n",
    "<br>\n",
    "\n",
    "**Assumption**: words with similar meaning have similar contexts vectors.\n",
    "\n"
   ]
  },
  {
   "cell_type": "code",
   "execution_count": 13,
   "metadata": {},
   "outputs": [
    {
     "name": "stdout",
     "output_type": "stream",
     "text": [
      "context for word weekly in ['rt', 'sugar', 'babies', 'weekly', 'no', 'bank', 'info', 'needed', 'or', 'cashapp', 'i', 'have', 'proof', 'rt', 'if', 'interested']\n",
      "['sugar@-2', 'babies@-1', 'no@1', 'bank@2']\n"
     ]
    }
   ],
   "source": [
    "import numpy as np\n",
    "def get_contexts(tweet, i, window):\n",
    "    \"\"\"\n",
    "    Get the context features for token at position i\n",
    "    in this tweet, using the given window size.\n",
    "    \"\"\"\n",
    "    features = []\n",
    "    for j in range(np.amax([0, i-window]), i):\n",
    "        features.append(tweet[j] + \"@\" + str(j-i))\n",
    "    for j in range(i+1, min(i + window + 1, len(tweet))):\n",
    "        features.append(tweet[j] + \"@\" + str(j-i))\n",
    "    return features\n",
    "\n",
    "print('context for word %s in %s' % (tokens[0][3], tokens[0]))\n",
    "print(get_contexts(tokens[0], i=3, window=2))"
   ]
  },
  {
   "cell_type": "markdown",
   "metadata": {},
   "source": [
    "** Q: How would the approach differ if we ignore location of context?**\n",
    "\n",
    "E.g., **love:** {really: 1, school:1, you: 1} **vs** {really@-1: 1, school@1: 1, you@-1: 1}"
   ]
  },
  {
   "cell_type": "code",
   "execution_count": 14,
   "metadata": {},
   "outputs": [],
   "source": [
    "# For each term, create a context vector, indicating how often\n",
    "# each word occurs to the left or right of it.\n",
    "from collections import defaultdict\n",
    "import numpy as np\n",
    "\n",
    "# dict from term to context vector.\n",
    "contexts = defaultdict(lambda: Counter())\n",
    "window = 2\n",
    "for tweet in tokens:\n",
    "    for i, token in enumerate(tweet):\n",
    "        features = get_contexts(tweet, i, window)\n",
    "        contexts[token].update(features)\n",
    "        # Optionally: ignore word order\n",
    "        # contexts[token].update(tweet[:i] + tweet[i+1:])\n"
   ]
  },
  {
   "cell_type": "code",
   "execution_count": 15,
   "metadata": {},
   "outputs": [
    {
     "data": {
      "text/plain": [
       "[('rt@-1', 1867),\n",
       " ('m@1', 1735),\n",
       " ('t@2', 820),\n",
       " ('rt@-2', 525),\n",
       " ('to@2', 504),\n",
       " ('can@1', 422),\n",
       " ('a@2', 420),\n",
       " ('and@-1', 403),\n",
       " ('don@1', 382),\n",
       " ('am@1', 382),\n",
       " ('have@1', 350),\n",
       " ('you@2', 334),\n",
       " ('just@1', 321),\n",
       " ('ve@1', 317),\n",
       " ('love@1', 311),\n",
       " ('but@-1', 308),\n",
       " ('was@1', 288),\n",
       " ('when@-1', 269),\n",
       " ('the@2', 266),\n",
       " ('it@2', 265)]"
      ]
     },
     "execution_count": 15,
     "metadata": {},
     "output_type": "execute_result"
    }
   ],
   "source": [
    "contexts['i'].most_common(20)"
   ]
  },
  {
   "cell_type": "markdown",
   "metadata": {},
   "source": [
    "**tf-idf vectors**\n",
    "\n",
    "- We will transform the context features by dividing by (the log of) the number of distinct terms this feature appears in."
   ]
  },
  {
   "cell_type": "code",
   "execution_count": 16,
   "metadata": {},
   "outputs": [
    {
     "data": {
      "text/plain": [
       "[('i@-1', 11111),\n",
       " ('i@-2', 10699),\n",
       " ('i@1', 9476),\n",
       " ('i@2', 7141),\n",
       " ('rt@-1', 5588)]"
      ]
     },
     "execution_count": 16,
     "metadata": {},
     "output_type": "execute_result"
    }
   ],
   "source": [
    "# Compute the number of different contexts each term appears in.\n",
    "# Actually: this is the total number of times this context feature appears.\n",
    "tweet_freq = Counter()\n",
    "for context in contexts.values():\n",
    "    tweet_freq.update(context)\n",
    "tweet_freq.most_common(5)"
   ]
  },
  {
   "cell_type": "code",
   "execution_count": 17,
   "metadata": {},
   "outputs": [
    {
     "data": {
      "text/plain": [
       "Counter({6: 1032,\n",
       "         12: 329,\n",
       "         773: 1,\n",
       "         3: 3372,\n",
       "         689: 2,\n",
       "         11: 354,\n",
       "         72: 13,\n",
       "         51: 15,\n",
       "         9476: 1,\n",
       "         298: 1,\n",
       "         243: 4,\n",
       "         517: 1,\n",
       "         2: 746,\n",
       "         85: 14,\n",
       "         1328: 1,\n",
       "         117: 5,\n",
       "         221: 4,\n",
       "         733: 2,\n",
       "         1928: 1,\n",
       "         7: 795,\n",
       "         54: 16,\n",
       "         1523: 1,\n",
       "         24: 88,\n",
       "         365: 1,\n",
       "         3959: 1,\n",
       "         1400: 1,\n",
       "         1613: 1,\n",
       "         42: 32,\n",
       "         39: 37,\n",
       "         25: 119,\n",
       "         156: 2,\n",
       "         2395: 1,\n",
       "         722: 2,\n",
       "         9: 522,\n",
       "         231: 6,\n",
       "         123: 6,\n",
       "         466: 1,\n",
       "         486: 2,\n",
       "         1422: 1,\n",
       "         1341: 1,\n",
       "         37: 38,\n",
       "         7141: 1,\n",
       "         901: 1,\n",
       "         75: 15,\n",
       "         93: 12,\n",
       "         460: 1,\n",
       "         353: 2,\n",
       "         111: 13,\n",
       "         73: 8,\n",
       "         385: 1,\n",
       "         1363: 1,\n",
       "         3781: 1,\n",
       "         578: 1,\n",
       "         1361: 1,\n",
       "         1683: 1,\n",
       "         287: 1,\n",
       "         13: 250,\n",
       "         55: 20,\n",
       "         414: 1,\n",
       "         630: 1,\n",
       "         23: 98,\n",
       "         3540: 1,\n",
       "         66: 13,\n",
       "         16: 208,\n",
       "         1298: 1,\n",
       "         199: 4,\n",
       "         714: 1,\n",
       "         34: 39,\n",
       "         19: 166,\n",
       "         189: 3,\n",
       "         1845: 1,\n",
       "         174: 1,\n",
       "         663: 1,\n",
       "         382: 1,\n",
       "         35: 40,\n",
       "         188: 2,\n",
       "         83: 10,\n",
       "         327: 1,\n",
       "         903: 1,\n",
       "         61: 21,\n",
       "         838: 1,\n",
       "         878: 1,\n",
       "         970: 1,\n",
       "         2148: 1,\n",
       "         2294: 1,\n",
       "         4: 2103,\n",
       "         269: 1,\n",
       "         45: 30,\n",
       "         766: 1,\n",
       "         48: 22,\n",
       "         15: 242,\n",
       "         80: 12,\n",
       "         70: 23,\n",
       "         669: 2,\n",
       "         10: 452,\n",
       "         130: 5,\n",
       "         1673: 1,\n",
       "         1473: 1,\n",
       "         547: 2,\n",
       "         49: 18,\n",
       "         719: 1,\n",
       "         347: 1,\n",
       "         1264: 1,\n",
       "         274: 1,\n",
       "         281: 1,\n",
       "         21: 102,\n",
       "         31: 48,\n",
       "         60: 11,\n",
       "         5: 1289,\n",
       "         47: 32,\n",
       "         27: 68,\n",
       "         118: 2,\n",
       "         770: 1,\n",
       "         101: 6,\n",
       "         8: 617,\n",
       "         44: 19,\n",
       "         277: 2,\n",
       "         67: 13,\n",
       "         68: 16,\n",
       "         491: 1,\n",
       "         1470: 1,\n",
       "         456: 1,\n",
       "         1452: 1,\n",
       "         395: 3,\n",
       "         238: 4,\n",
       "         471: 1,\n",
       "         154: 3,\n",
       "         82: 7,\n",
       "         120: 5,\n",
       "         283: 1,\n",
       "         226: 6,\n",
       "         512: 2,\n",
       "         74: 8,\n",
       "         104: 7,\n",
       "         261: 1,\n",
       "         315: 3,\n",
       "         43: 32,\n",
       "         206: 2,\n",
       "         65: 14,\n",
       "         461: 1,\n",
       "         32: 50,\n",
       "         103: 9,\n",
       "         550: 1,\n",
       "         654: 2,\n",
       "         138: 3,\n",
       "         775: 1,\n",
       "         87: 11,\n",
       "         203: 4,\n",
       "         46: 29,\n",
       "         190: 3,\n",
       "         1643: 1,\n",
       "         79: 15,\n",
       "         161: 4,\n",
       "         36: 37,\n",
       "         41: 34,\n",
       "         198: 6,\n",
       "         38: 45,\n",
       "         59: 24,\n",
       "         119: 8,\n",
       "         571: 1,\n",
       "         219: 2,\n",
       "         797: 1,\n",
       "         92: 9,\n",
       "         2916: 1,\n",
       "         17: 161,\n",
       "         208: 2,\n",
       "         102: 7,\n",
       "         193: 3,\n",
       "         3593: 1,\n",
       "         2355: 1,\n",
       "         22: 108,\n",
       "         137: 6,\n",
       "         33: 37,\n",
       "         78: 12,\n",
       "         64: 10,\n",
       "         1787: 1,\n",
       "         128: 5,\n",
       "         574: 1,\n",
       "         18: 158,\n",
       "         110: 5,\n",
       "         1507: 1,\n",
       "         91: 6,\n",
       "         554: 1,\n",
       "         58: 19,\n",
       "         176: 2,\n",
       "         105: 8,\n",
       "         88: 8,\n",
       "         458: 1,\n",
       "         1616: 1,\n",
       "         403: 1,\n",
       "         153: 3,\n",
       "         400: 1,\n",
       "         30: 62,\n",
       "         624: 1,\n",
       "         115: 5,\n",
       "         907: 1,\n",
       "         570: 1,\n",
       "         210: 1,\n",
       "         239: 2,\n",
       "         197: 2,\n",
       "         500: 1,\n",
       "         14: 229,\n",
       "         84: 13,\n",
       "         297: 1,\n",
       "         1506: 1,\n",
       "         150: 6,\n",
       "         749: 1,\n",
       "         333: 2,\n",
       "         134: 6,\n",
       "         28: 72,\n",
       "         582: 1,\n",
       "         748: 2,\n",
       "         263: 2,\n",
       "         86: 15,\n",
       "         96: 4,\n",
       "         122: 5,\n",
       "         114: 4,\n",
       "         89: 11,\n",
       "         477: 1,\n",
       "         257: 1,\n",
       "         29: 68,\n",
       "         10699: 1,\n",
       "         148: 4,\n",
       "         62: 11,\n",
       "         57: 14,\n",
       "         69: 12,\n",
       "         445: 4,\n",
       "         135: 6,\n",
       "         222: 1,\n",
       "         132: 4,\n",
       "         127: 8,\n",
       "         131: 6,\n",
       "         258: 1,\n",
       "         126: 7,\n",
       "         26: 77,\n",
       "         387: 3,\n",
       "         201: 4,\n",
       "         612: 1,\n",
       "         20: 145,\n",
       "         1436: 1,\n",
       "         392: 2,\n",
       "         81: 13,\n",
       "         195: 5,\n",
       "         168: 2,\n",
       "         152: 4,\n",
       "         214: 1,\n",
       "         98: 8,\n",
       "         253: 4,\n",
       "         141: 3,\n",
       "         337: 1,\n",
       "         162: 1,\n",
       "         1677: 1,\n",
       "         2854: 1,\n",
       "         931: 1,\n",
       "         217: 1,\n",
       "         50: 13,\n",
       "         209: 2,\n",
       "         116: 2,\n",
       "         63: 17,\n",
       "         278: 1,\n",
       "         5588: 1,\n",
       "         90: 10,\n",
       "         378: 2,\n",
       "         418: 1,\n",
       "         1028: 1,\n",
       "         312: 1,\n",
       "         1170: 1,\n",
       "         452: 1,\n",
       "         95: 5,\n",
       "         77: 9,\n",
       "         52: 24,\n",
       "         1: 266,\n",
       "         125: 7,\n",
       "         40: 34,\n",
       "         185: 5,\n",
       "         97: 2,\n",
       "         275: 2,\n",
       "         340: 2,\n",
       "         228: 1,\n",
       "         262: 1,\n",
       "         1326: 1,\n",
       "         1695: 1,\n",
       "         71: 12,\n",
       "         345: 2,\n",
       "         1044: 1,\n",
       "         106: 8,\n",
       "         216: 3,\n",
       "         272: 2,\n",
       "         107: 3,\n",
       "         159: 3,\n",
       "         139: 1,\n",
       "         2160: 1,\n",
       "         56: 15,\n",
       "         502: 1,\n",
       "         3536: 1,\n",
       "         100: 4,\n",
       "         112: 6,\n",
       "         99: 6,\n",
       "         136: 3,\n",
       "         438: 1,\n",
       "         1715: 1,\n",
       "         548: 1,\n",
       "         270: 1,\n",
       "         151: 3,\n",
       "         256: 1,\n",
       "         288: 1,\n",
       "         124: 7,\n",
       "         212: 2,\n",
       "         5568: 1,\n",
       "         303: 1,\n",
       "         211: 3,\n",
       "         828: 1,\n",
       "         53: 11,\n",
       "         163: 2,\n",
       "         290: 1,\n",
       "         1591: 1,\n",
       "         453: 3,\n",
       "         3162: 1,\n",
       "         815: 1,\n",
       "         140: 4,\n",
       "         248: 2,\n",
       "         982: 1,\n",
       "         229: 1,\n",
       "         129: 2,\n",
       "         108: 3,\n",
       "         2347: 1,\n",
       "         2541: 1,\n",
       "         232: 2,\n",
       "         121: 8,\n",
       "         1446: 1,\n",
       "         2790: 1,\n",
       "         444: 1,\n",
       "         317: 2,\n",
       "         157: 1,\n",
       "         1490: 1,\n",
       "         455: 1,\n",
       "         880: 1,\n",
       "         149: 1,\n",
       "         245: 4,\n",
       "         786: 2,\n",
       "         1557: 1,\n",
       "         145: 2,\n",
       "         320: 2,\n",
       "         366: 2,\n",
       "         3500: 1,\n",
       "         184: 1,\n",
       "         289: 1,\n",
       "         2028: 1,\n",
       "         1753: 1,\n",
       "         233: 2,\n",
       "         251: 2,\n",
       "         698: 1,\n",
       "         204: 2,\n",
       "         173: 2,\n",
       "         273: 1,\n",
       "         254: 1,\n",
       "         671: 1,\n",
       "         1334: 1,\n",
       "         792: 1,\n",
       "         1951: 1,\n",
       "         181: 1,\n",
       "         741: 2,\n",
       "         856: 1,\n",
       "         1367: 1,\n",
       "         3872: 1,\n",
       "         410: 1,\n",
       "         260: 1,\n",
       "         516: 2,\n",
       "         1356: 1,\n",
       "         1475: 1,\n",
       "         381: 1,\n",
       "         205: 3,\n",
       "         11111: 1,\n",
       "         845: 1,\n",
       "         1553: 1,\n",
       "         1403: 1,\n",
       "         1352: 1,\n",
       "         373: 2,\n",
       "         495: 2,\n",
       "         255: 2,\n",
       "         803: 1,\n",
       "         1385: 1,\n",
       "         293: 1,\n",
       "         682: 1,\n",
       "         249: 1,\n",
       "         1480: 1,\n",
       "         938: 1,\n",
       "         146: 3,\n",
       "         360: 1,\n",
       "         600: 1,\n",
       "         268: 1,\n",
       "         109: 5,\n",
       "         1282: 1,\n",
       "         344: 1,\n",
       "         167: 2,\n",
       "         906: 1,\n",
       "         478: 1,\n",
       "         1253: 1,\n",
       "         2203: 1,\n",
       "         207: 1,\n",
       "         762: 1,\n",
       "         430: 1,\n",
       "         1003: 1,\n",
       "         230: 2,\n",
       "         388: 1,\n",
       "         1471: 1,\n",
       "         94: 1,\n",
       "         1605: 1,\n",
       "         1640: 1,\n",
       "         513: 1,\n",
       "         331: 1,\n",
       "         441: 1,\n",
       "         499: 1,\n",
       "         557: 1,\n",
       "         246: 2,\n",
       "         621: 1,\n",
       "         147: 1,\n",
       "         359: 1,\n",
       "         172: 2,\n",
       "         754: 1,\n",
       "         531: 1,\n",
       "         358: 1,\n",
       "         397: 1,\n",
       "         113: 5,\n",
       "         177: 1,\n",
       "         389: 1,\n",
       "         202: 1,\n",
       "         393: 1,\n",
       "         376: 1,\n",
       "         169: 1,\n",
       "         160: 2,\n",
       "         225: 1,\n",
       "         439: 1,\n",
       "         537: 1,\n",
       "         250: 1,\n",
       "         165: 2,\n",
       "         374: 1,\n",
       "         637: 1,\n",
       "         319: 1,\n",
       "         656: 1,\n",
       "         415: 1,\n",
       "         180: 2,\n",
       "         755: 1,\n",
       "         178: 1,\n",
       "         450: 1,\n",
       "         200: 1,\n",
       "         143: 1,\n",
       "         215: 2,\n",
       "         649: 1,\n",
       "         848: 1,\n",
       "         432: 1,\n",
       "         559: 1,\n",
       "         76: 7,\n",
       "         133: 1,\n",
       "         646: 1,\n",
       "         285: 1,\n",
       "         479: 1,\n",
       "         194: 1,\n",
       "         481: 1,\n",
       "         446: 1,\n",
       "         294: 1,\n",
       "         266: 1,\n",
       "         271: 1,\n",
       "         311: 1,\n",
       "         240: 1,\n",
       "         187: 1,\n",
       "         170: 1,\n",
       "         372: 1,\n",
       "         183: 1,\n",
       "         660: 1})"
      ]
     },
     "execution_count": 17,
     "metadata": {},
     "output_type": "execute_result"
    }
   ],
   "source": [
    "Counter(tweet_freq.values())"
   ]
  },
  {
   "cell_type": "code",
   "execution_count": 18,
   "metadata": {},
   "outputs": [
    {
     "data": {
      "text/plain": [
       "[('i@2', 1381),\n",
       " ('i@1', 1359),\n",
       " ('i@-2', 1306),\n",
       " ('the@-1', 1142),\n",
       " ('and@1', 1013)]"
      ]
     },
     "execution_count": 18,
     "metadata": {},
     "output_type": "execute_result"
    }
   ],
   "source": [
    "# As opposed to the above, this computes the number of unique terms that this feature\n",
    "# appears in. Q: How do you expect to affect the output?\n",
    "tweet_freq_2 = Counter()\n",
    "for context in contexts.values():\n",
    "    tweet_freq_2.update(context.keys())\n",
    "tweet_freq_2.most_common(5)"
   ]
  },
  {
   "cell_type": "code",
   "execution_count": 19,
   "metadata": {},
   "outputs": [
    {
     "data": {
      "text/plain": [
       "[('m@1', 0.5155466485824116),\n",
       " ('rt@-1', 0.4909206306045911),\n",
       " ('t@2', 0.2470207434713433),\n",
       " ('can@1', 0.1396074357328446),\n",
       " ('to@2', 0.139120816240116)]"
      ]
     },
     "execution_count": 19,
     "metadata": {},
     "output_type": "execute_result"
    }
   ],
   "source": [
    "# Transform each context vector to be term freq / tweet frequency. \n",
    "# Also then normalize by length.\n",
    "for term, context in contexts.items():\n",
    "    for term2, frequency in context.items():\n",
    "        # tf / [ 1 + log(df) ]\n",
    "        context[term2] = frequency / (1. + math.log(tweet_freq[term2]))\n",
    "    length = math.sqrt(sum([v*v for v in context.values()]))\n",
    "    for term2, frequency in context.items():\n",
    "        context[term2] = 1. * frequency / length\n",
    "    \n",
    "contexts['i'].most_common(5)"
   ]
  },
  {
   "cell_type": "code",
   "execution_count": 20,
   "metadata": {},
   "outputs": [
    {
     "data": {
      "text/plain": [
       "[('elementary@-1', 0.43512736345287395),\n",
       " ('skipped@-1', 0.35570966452058334),\n",
       " ('high@-1', 0.33723466972378285),\n",
       " ('in@-2', 0.24619643928875476),\n",
       " ('and@1', 0.21585729468643874),\n",
       " ('out@-2', 0.1810673763554008),\n",
       " ('my@2', 0.1786434740614834),\n",
       " ('go@2', 0.16826456721072033),\n",
       " ('drive@-2', 0.16413996086386234),\n",
       " ('host@-2', 0.15886328475523892)]"
      ]
     },
     "execution_count": 20,
     "metadata": {},
     "output_type": "execute_result"
    }
   ],
   "source": [
    "contexts['school'].most_common(10)"
   ]
  },
  {
   "cell_type": "code",
   "execution_count": 21,
   "metadata": {},
   "outputs": [
    {
     "data": {
      "text/plain": [
       "[('i@-1', 0.8308885823600964),\n",
       " ('you@1', 0.2964789992162911),\n",
       " ('i@-2', 0.16893383796015696),\n",
       " ('rt@-2', 0.13171863968808858),\n",
       " ('in@-1', 0.1030135166450461),\n",
       " ('it@1', 0.09482809450923141),\n",
       " ('to@1', 0.08699958137666992),\n",
       " ('so@2', 0.08469017078477475),\n",
       " ('this@1', 0.07887598906675862),\n",
       " ('u@1', 0.07128889941155754)]"
      ]
     },
     "execution_count": 21,
     "metadata": {},
     "output_type": "execute_result"
    }
   ],
   "source": [
    "contexts['love'].most_common(10)"
   ]
  },
  {
   "cell_type": "code",
   "execution_count": 22,
   "metadata": {},
   "outputs": [
    {
     "data": {
      "text/plain": [
       "[('i@-1', 0.7605354622591122),\n",
       " ('when@1', 0.26342143298504556),\n",
       " ('rt@-2', 0.25173108882527),\n",
       " ('people@2', 0.17465592366363272),\n",
       " ('i@-2', 0.13470555317735508),\n",
       " ('that@1', 0.12571318312841429),\n",
       " ('rt@-1', 0.11982730785619944),\n",
       " ('crime@1', 0.10995289293386219),\n",
       " ('remaining@-2', 0.09669741338085451),\n",
       " ('stans@-2', 0.09669741338085451)]"
      ]
     },
     "execution_count": 22,
     "metadata": {},
     "output_type": "execute_result"
    }
   ],
   "source": [
    "contexts['hate'].most_common(10)"
   ]
  },
  {
   "cell_type": "markdown",
   "metadata": {},
   "source": [
    "At this point we have a list of dictionaries, one per term, indicating the terms that co-occur (weighted by inverse tweet frequency).\n",
    "\n",
    "Next, we have to cluster these vectors. To do this, we'll need to be able to compute the euclidean distance between two vectors."
   ]
  },
  {
   "cell_type": "code",
   "execution_count": 23,
   "metadata": {},
   "outputs": [
    {
     "name": "stdout",
     "output_type": "stream",
     "text": [
      "1.4142135623730951\n",
      "2.23606797749979\n"
     ]
    }
   ],
   "source": [
    "# n.b. This is not efficient!\n",
    "def distance(c1, c2):\n",
    "    if len(c1.keys()) == 0 or len(c2.keys()) == 0:\n",
    "        return 1e9\n",
    "    keys = set(c1.keys()) | set(c2.keys())\n",
    "    distance = 0.\n",
    "    for k in keys:\n",
    "        distance += (c1[k] - c2[k]) ** 2\n",
    "    return math.sqrt(distance)\n",
    "\n",
    "print(distance({'hi':10, 'bye': 5}, {'hi': 9, 'bye': 4}))\n",
    "print(distance({'hi':10, 'bye': 5}, {'hi': 8, 'bye': 4}))"
   ]
  },
  {
   "cell_type": "code",
   "execution_count": 24,
   "metadata": {},
   "outputs": [
    {
     "data": {
      "text/plain": [
       "array(['love', 'hope', 'miss', 'm', 'am', 'think', 'hate', 'mean', 'll',\n",
       "       'need'], dtype='<U111')"
      ]
     },
     "execution_count": 24,
     "metadata": {},
     "output_type": "execute_result"
    }
   ],
   "source": [
    "def find_closest(term, n=5):\n",
    "    terms = np.array(list(contexts.keys()))\n",
    "    context = contexts[term]\n",
    "    distances = []\n",
    "    for term2, context2 in contexts.items():\n",
    "        distances.append(distance(context, context2))\n",
    "    return terms[np.argsort(distances)][:n]\n",
    "\n",
    "find_closest('love', n=10)"
   ]
  },
  {
   "cell_type": "code",
   "execution_count": 25,
   "metadata": {},
   "outputs": [
    {
     "name": "stdout",
     "output_type": "stream",
     "text": [
      "4119 nonzero contexts\n"
     ]
    }
   ],
   "source": [
    "nz_contexts = [t for t, context in contexts.items()\n",
    "               if len(context) > 1]\n",
    "contexts = dict([(term, contexts[term]) for term in nz_contexts])\n",
    "print(len(nz_contexts), 'nonzero contexts')"
   ]
  },
  {
   "cell_type": "code",
   "execution_count": 26,
   "metadata": {},
   "outputs": [
    {
     "name": "stdout",
     "output_type": "stream",
     "text": [
      "rt\n",
      "[('sugar@1', 0.0017003105148514406), ('babies@2', 0.004086357361182092), ('have@-2', 0.0006204816778991895)]\n"
     ]
    }
   ],
   "source": [
    "# e.g., what are three context features for the term \"rt\"?\n",
    "print(list(contexts.keys())[0])\n",
    "print(list(list(contexts.values())[0].items())[:3])"
   ]
  },
  {
   "cell_type": "code",
   "execution_count": 27,
   "metadata": {},
   "outputs": [
    {
     "name": "stdout",
     "output_type": "stream",
     "text": [
      "['a@-1' 'a@-2' 'a@1' 'a@2' 'aap@-1' 'aap@-2' 'aap@1' 'aap@2' 'ab@-1'\n",
      " 'ab@-2']\n",
      "  (0, 0)\t0.0005313371287684015\n",
      "  (0, 1)\t0.0005369558735557072\n",
      "  (0, 2)\t0.021148918914504197\n",
      "  (0, 3)\t0.02225964960052274\n",
      "  (0, 15)\t0.0011478333018047832\n",
      "  (0, 26)\t0.0006670784065803016\n",
      "  (0, 27)\t0.0013375058619465052\n",
      "  (0, 48)\t0.0021259017925751348\n",
      "  (0, 49)\t0.00112514759322475\n",
      "  (0, 74)\t0.0022619032615486803\n",
      "  (0, 83)\t0.0022619032615486803\n",
      "  (0, 91)\t0.0016113383437667806\n",
      "  (0, 94)\t0.003978434561808906\n",
      "  (0, 95)\t0.0028035707911078897\n",
      "  (0, 97)\t0.001023562219002439\n",
      "  (0, 107)\t0.0014846808116367612\n",
      "  (0, 135)\t0.004694604174960588\n",
      "  (0, 142)\t0.002272281867689208\n",
      "  (0, 143)\t0.001173651043740147\n",
      "  (0, 166)\t0.0022619032615486803\n",
      "  (0, 175)\t0.002608839350693276\n",
      "  (0, 179)\t0.005221733478971979\n",
      "  (0, 187)\t0.0022619032615486803\n",
      "  (0, 195)\t0.0032356135629653406\n",
      "  (0, 206)\t0.0022619032615486803\n",
      "  :\t:\n",
      "  (0, 16140)\t0.0033935701880275925\n",
      "  (0, 16147)\t0.0028035707911078897\n",
      "  (0, 16151)\t0.01141761433468649\n",
      "  (0, 16152)\t0.0031461422182231555\n",
      "  (0, 16155)\t0.0009875579969608728\n",
      "  (0, 16169)\t0.000944582244704575\n",
      "  (0, 16171)\t0.00628074106471914\n",
      "  (0, 16175)\t0.0030706866570073175\n",
      "  (0, 16176)\t0.0020840813550973797\n",
      "  (0, 16177)\t0.0027350383997706076\n",
      "  (0, 16178)\t0.0005510116339841115\n",
      "  (0, 16179)\t0.02770523095492454\n",
      "  (0, 16180)\t0.08757745207051615\n",
      "  (0, 16187)\t0.0022619032615486803\n",
      "  (0, 16189)\t0.0006687529309732526\n",
      "  (0, 16190)\t0.0006821742261893617\n",
      "  (0, 16191)\t0.007319854783145523\n",
      "  (0, 16192)\t0.0046812705168127675\n",
      "  (0, 16200)\t0.0024068609024179505\n",
      "  (0, 16211)\t0.001989217280904453\n",
      "  (0, 16227)\t0.0022619032615486803\n",
      "  (0, 16228)\t0.0028035707911078897\n",
      "  (0, 16231)\t0.0022619032615486803\n",
      "  (0, 16235)\t0.001989217280904453\n",
      "  (0, 16243)\t0.0016113383437667806\n"
     ]
    }
   ],
   "source": [
    "# Transform context dicts to a sparse vector\n",
    "# for sklearn.\n",
    "from sklearn.feature_extraction import DictVectorizer\n",
    "\n",
    "vec = DictVectorizer()\n",
    "X = vec.fit_transform(contexts.values())\n",
    "names = np.array(vec.get_feature_names())\n",
    "print(names[:10])\n",
    "print(X[0])"
   ]
  },
  {
   "cell_type": "code",
   "execution_count": 28,
   "metadata": {},
   "outputs": [
    {
     "name": "stdout",
     "output_type": "stream",
     "text": [
      "170\n",
      "  (0, 1)\t0.006235095024366167\n",
      "  (0, 2)\t0.01841848542711788\n",
      "  (0, 3)\t0.015385567544880276\n",
      "  (0, 15)\t0.006664281053014959\n",
      "  (0, 27)\t0.003882756738304886\n",
      "  (0, 46)\t0.006088798185249881\n",
      "  (0, 235)\t0.011549327776618304\n",
      "  (0, 298)\t0.004655436578828893\n",
      "  (0, 303)\t0.006664281053014959\n",
      "  (0, 307)\t0.014168361001558131\n",
      "  (0, 430)\t0.007227249428703016\n",
      "  (0, 431)\t0.0220223276907283\n",
      "  (0, 432)\t0.0036043275182654493\n",
      "  (0, 433)\t0.00728054993985876\n",
      "  (0, 470)\t0.005280209802303511\n",
      "  (0, 471)\t0.005409939475324409\n",
      "  (0, 490)\t0.009322409740016035\n",
      "  (0, 493)\t0.009418986063004458\n",
      "  (0, 498)\t0.003946212370849091\n",
      "  (0, 502)\t0.006171456697829173\n",
      "  (0, 508)\t0.0098719449335978\n",
      "  (0, 534)\t0.007573416204185878\n",
      "  (0, 539)\t0.03736481012056573\n",
      "  (0, 540)\t0.004158369236156071\n",
      "  (0, 545)\t0.006291617791008221\n",
      "  :\t:\n",
      "  (0, 15904)\t0.005063726196897955\n",
      "  (0, 15933)\t0.010365832573433318\n",
      "  (0, 15937)\t0.00578847666100565\n",
      "  (0, 15980)\t0.004735182557307195\n",
      "  (0, 16043)\t0.04239194146045213\n",
      "  (0, 16056)\t0.022265190174048457\n",
      "  (0, 16080)\t0.006012868304489387\n",
      "  (0, 16088)\t0.00730535390343509\n",
      "  (0, 16100)\t0.01627743651851643\n",
      "  (0, 16107)\t0.013132533292064479\n",
      "  (0, 16109)\t0.004430630099480291\n",
      "  (0, 16110)\t0.004450232160766297\n",
      "  (0, 16111)\t0.004379272340312247\n",
      "  (0, 16116)\t0.005074760716277428\n",
      "  (0, 16130)\t0.005446182417355924\n",
      "  (0, 16152)\t0.006088798185249881\n",
      "  (0, 16154)\t0.005846966028746726\n",
      "  (0, 16177)\t0.050814527323995176\n",
      "  (0, 16178)\t0.06398309556931911\n",
      "  (0, 16179)\t0.2964789992162911\n",
      "  (0, 16180)\t0.03495742962773339\n",
      "  (0, 16189)\t0.015531026953219545\n",
      "  (0, 16191)\t0.042498827543543526\n",
      "  (0, 16192)\t0.007765513476609772\n",
      "  (0, 16199)\t0.020961228626150834\n",
      "war@-2\n"
     ]
    }
   ],
   "source": [
    "# Which row of X is the word \"love\"?\n",
    "love_idx = list(contexts.keys()).index('love')\n",
    "print(love_idx)\n",
    "# What are the context feature values for love?\n",
    "print(X[love_idx])\n",
    "# Print a highly ranking feature.\n",
    "print(names[15534])"
   ]
  },
  {
   "cell_type": "code",
   "execution_count": 29,
   "metadata": {},
   "outputs": [
    {
     "data": {
      "text/plain": [
       "KMeans(algorithm='auto', copy_x=True, init='k-means++', max_iter=300,\n",
       "    n_clusters=20, n_init=10, n_jobs=None, precompute_distances='auto',\n",
       "    random_state=None, tol=0.0001, verbose=0)"
      ]
     },
     "execution_count": 29,
     "metadata": {},
     "output_type": "execute_result"
    }
   ],
   "source": [
    "# Let's cluster!\n",
    "# http://scikit-learn.org/stable/modules/generated/sklearn.cluster.KMeans.html\n",
    "from sklearn.cluster import KMeans\n",
    "num_clusters = 20\n",
    "kmeans = KMeans(num_clusters)\n",
    "kmeans.fit(X)"
   ]
  },
  {
   "cell_type": "code",
   "execution_count": 30,
   "metadata": {},
   "outputs": [
    {
     "name": "stdout",
     "output_type": "stream",
     "text": [
      "0 rt@-1 i@1 i@2 is@1 rt@-2\n",
      "1 is@-1 to@-2 for@1 stop@-1 and@2\n",
      "2 a@-1 i@2 the@-1 i@1 a@-2\n",
      "3 t@-1 don@-2 can@-2 i@-1 i@-2\n",
      "4 of@-1 and@1 i@2 i@1 s@1\n",
      "5 an@-1 the@-1 i@2 is@-2 and@1\n",
      "6 i@1 m@2 rt@-1 the@-2 i@2\n",
      "7 i@2 and@1 i@1 but@1 the@-1\n",
      "8 on@1 a@2 the@2 in@1 very@-1\n",
      "9 the@-1 in@-2 i@2 i@1 of@-2\n",
      "10 i@-1 rt@-2 i@-2 t@1 a@1\n",
      "11 you@1 i@-2 me@1 are@2 i@2\n",
      "12 to@1 i@-2 i@-1 the@2 m@-1\n",
      "13 my@-1 in@-2 and@1 i@2 your@-1\n",
      "14 the@-2 and@1 i@1 a@-2 the@-1\n",
      "15 i@-2 m@-1 i@2 was@-1 the@2\n",
      "16 this@-1 a@-1 i@1 a@-2 the@-1\n",
      "17 i@-2 the@1 i@2 to@-2 m@-1\n",
      "18 to@-1 i@-2 i@-1 the@1 me@1\n",
      "19 of@1 the@-1 a@-1 the@2 i@-2\n"
     ]
    }
   ],
   "source": [
    "# Let's print out the top features for each mean vector.\n",
    "# This is swamped by common terms\n",
    "for i in range(num_clusters):\n",
    "    print(i, ' '.join(names[np.argsort(\n",
    "        kmeans.cluster_centers_[i])[::-1][:5]]))"
   ]
  },
  {
   "cell_type": "code",
   "execution_count": 31,
   "metadata": {},
   "outputs": [
    {
     "name": "stdout",
     "output_type": "stream",
     "text": [
      "distance from term \"love\" to each cluster:\n",
      "[1.01548209 1.0014152  1.0299384  0.96932876 0.99783599 1.01725645\n",
      " 1.01736638 0.98412061 0.9823999  1.02220332 0.60911834 0.92009856\n",
      " 0.98623983 1.02822731 0.97830562 0.98375561 1.01679249 0.93577337\n",
      " 0.95549199 1.02648993]\n",
      "closest cluster to \"love\":\n",
      "10\n"
     ]
    }
   ],
   "source": [
    "# .transform will compute the distance from each context to each cluster.\n",
    "distances = kmeans.transform(X)\n",
    "# e.g., what is the distance from the word \"love\" to each cluster?\n",
    "print('distance from term \"love\" to each cluster:')\n",
    "print(distances[love_idx])\n",
    "# what is the closest cluster for the word \"love\"?\n",
    "print('closest cluster to \"love\":')\n",
    "print(np.argmin(distances[love_idx]))"
   ]
  },
  {
   "cell_type": "code",
   "execution_count": 32,
   "metadata": {},
   "outputs": [
    {
     "name": "stdout",
     "output_type": "stream",
     "text": [
      "0 hey hi if tbh wow i damn me bro \n",
      "\n",
      "1 caring looking a congrats funeral held the som better \n",
      "\n",
      "2 little great few liar good refugee jew huge new \n",
      "\n",
      "3 believe care understand wait forget stand know worry get \n",
      "\n",
      "4 the india pakistan cour ourselves people losing disgust my \n",
      "\n",
      "5 acce important agent expert actual amazing hour umpire album \n",
      "\n",
      "6 but when yes and today because why tbh wow \n",
      "\n",
      "7 nap lara and exactly sweet so good laptop the \n",
      "\n",
      "8 depending laying correct spying looking up source get bet \n",
      "\n",
      "9 best way world most first fact worl democ cinema \n",
      "\n",
      "10 am love think ll mean miss hope just saw \n",
      "\n",
      "11 tell sending if strengthen assure eish do gave love \n",
      "\n",
      "12 trying listen decided able relate wanted ready supposed listening \n",
      "\n",
      "13 mom heart vaca phone head favorite favourite dog sister \n",
      "\n",
      "14 that the of this me for time in but \n",
      "\n",
      "15 leaving not hungry gonna convinced so begging never done \n",
      "\n",
      "16 is week weekend hairstyle video tweet morning discussion pict \n",
      "\n",
      "17 a not to in so this for like you \n",
      "\n",
      "18 see hear get take start keep win play make \n",
      "\n",
      "19 kind rest amount type aware picture instead one bunch \n",
      "\n"
     ]
    }
   ],
   "source": [
    "# Finally, we'll print the words that are closest\n",
    "# to the mean of each cluster.\n",
    "terms = np.array(list(contexts.keys()))\n",
    "for i in range(distances.shape[1]):\n",
    "    print(i, ' '.join(terms[np.argsort(distances[:,i])[1:10]]), '\\n')"
   ]
  },
  {
   "cell_type": "markdown",
   "metadata": {},
   "source": [
    "Clearly, interpreting these results requires a bit of investigation.\n",
    "\n",
    "As the number of tweets increases, we expect these clusters to become more coherent."
   ]
  },
  {
   "cell_type": "markdown",
   "metadata": {},
   "source": [
    "**How does error decrease with number of cluster?**"
   ]
  },
  {
   "cell_type": "code",
   "execution_count": 33,
   "metadata": {},
   "outputs": [
    {
     "data": {
      "text/plain": [
       "-3773.0942523334415"
      ]
     },
     "execution_count": 33,
     "metadata": {},
     "output_type": "execute_result"
    }
   ],
   "source": [
    "kmeans.score(X)"
   ]
  },
  {
   "cell_type": "code",
   "execution_count": 34,
   "metadata": {},
   "outputs": [
    {
     "name": "stdout",
     "output_type": "stream",
     "text": [
      "k=5 score=3902.56\n",
      "k=10 score=3830.98\n",
      "k=20 score=3773.2\n",
      "k=50 score=3685.98\n",
      "k=100 score=3604.89\n"
     ]
    },
    {
     "data": {
      "image/png": "[encoded data removed]",
      "text/plain": [
       "<Figure size 432x288 with 1 Axes>"
      ]
     },
     "metadata": {},
     "output_type": "display_data"
    }
   ],
   "source": [
    "import matplotlib.pyplot as plt\n",
    "%matplotlib inline\n",
    "\n",
    "scores = []\n",
    "num_cluster_options = [5,10,20,50,100]\n",
    "\n",
    "for num_clusters in num_cluster_options:\n",
    "    kmeans = KMeans(num_clusters, n_init=10, max_iter=10)\n",
    "    kmeans.fit(X)\n",
    "    score = -1 * kmeans.score(X)\n",
    "    scores.append(score)\n",
    "    print('k=%d score=%g' % (num_clusters, score))\n",
    "    \n",
    "plt.figure()\n",
    "plt.plot(num_cluster_options, scores, 'bo-')\n",
    "plt.xlabel('num clusters')\n",
    "plt.ylabel('error')\n",
    "plt.show()"
   ]
  },
  {
   "cell_type": "markdown",
   "metadata": {},
   "source": [
    "** How does error vary by initalization? **"
   ]
  },
  {
   "cell_type": "code",
   "execution_count": 35,
   "metadata": {},
   "outputs": [
    {
     "name": "stdout",
     "output_type": "stream",
     "text": [
      "score=3768.85\n",
      "score=3777.51\n",
      "score=3777.16\n",
      "score=3780.96\n",
      "score=3779.22\n",
      "score=3787.55\n",
      "score=3791.55\n",
      "score=3795.23\n",
      "score=3781.7\n",
      "score=3781.12\n"
     ]
    },
    {
     "data": {
      "image/png": "[encoded data removed]",
      "text/plain": [
       "<Figure size 432x288 with 1 Axes>"
      ]
     },
     "metadata": {},
     "output_type": "display_data"
    }
   ],
   "source": [
    "scores = []\n",
    "for i in range(10):\n",
    "    kmeans = KMeans(20, n_init=1,\n",
    "                    max_iter=100,\n",
    "                    init='random')\n",
    "    kmeans.fit(X)\n",
    "    score = -1 * kmeans.score(X)\n",
    "    scores.append(score)\n",
    "    print('score=%g' % (score))\n",
    "     \n",
    "    \n",
    "plt.figure()\n",
    "plt.plot(range(10), sorted(scores), 'bo-')\n",
    "plt.xlabel('sample')\n",
    "plt.ylabel('error')\n",
    "plt.show()"
   ]
  },
  {
   "cell_type": "markdown",
   "metadata": {},
   "source": [
    "We now have a way to represent words in 20-dimensional space.\n",
    "- The distance from each word vector to the means of each of the 20 clusters."
   ]
  },
  {
   "cell_type": "code",
   "execution_count": 41,
   "metadata": {},
   "outputs": [
    {
     "name": "stdout",
     "output_type": "stream",
     "text": [
      "[1.01548209 1.0014152  1.0299384  0.96932876 0.99783599 1.01725645\n",
      " 1.01736638 0.98412061 0.9823999  1.02220332 0.60911834 0.92009856\n",
      " 0.98623983 1.02822731 0.97830562 0.98375561 1.01679249 0.93577337\n",
      " 0.95549199 1.02648993]\n",
      "[0.96476351 0.98186767 0.99686806 0.9159012  0.9760302  0.99667216\n",
      " 0.88133586 0.93867738 0.97025879 1.00332463 0.9030943  0.95583593\n",
      " 0.94751632 1.00562504 0.96558908 0.90836461 0.9764908  0.87021811\n",
      " 0.96018411 1.01276349]\n",
      "[0.98721494 1.00444765 1.03175506 0.97856328 0.9990005  1.02234942\n",
      " 1.02625507 0.97927221 0.98658837 1.03322225 0.65982078 0.97837503\n",
      " 1.01285089 1.03641146 0.98207326 1.00232075 1.02247577 0.95157906\n",
      " 0.9761271  1.04090442]\n",
      "[1.041702   0.99482692 0.99635015 1.0767571  1.01093642 1.03095357\n",
      " 1.04835651 1.00624103 0.98065087 1.04387816 1.1008343  1.02660278\n",
      " 1.07455004 1.03955625 0.99280956 1.07279866 1.01954051 1.00931241\n",
      " 1.05294586 1.04847736]\n"
     ]
    }
   ],
   "source": [
    "def get_distances(word, contexts, distances):\n",
    "    wd_idx = list(contexts.keys()).index(word)\n",
    "    return distances[wd_idx]\n",
    "\n",
    "print(get_distances('love', contexts, distances))\n",
    "print(get_distances('like', contexts, distances))\n",
    "print(get_distances('hate', contexts, distances))\n",
    "print(get_distances('pizza', contexts, distances))"
   ]
  },
  {
   "cell_type": "markdown",
   "metadata": {},
   "source": [
    "We can use these vectors to compute how similar two words are."
   ]
  },
  {
   "cell_type": "code",
   "execution_count": 46,
   "metadata": {},
   "outputs": [
    {
     "name": "stdout",
     "output_type": "stream",
     "text": [
      "0.05322723694768313\n"
     ]
    }
   ],
   "source": [
    "def sim(v1, v2):\n",
    "    \"\"\" cosine similarity of two vectors. \"\"\"\n",
    "    return np.dot(v1, v2) / (np.dot(v1, v1) * np.dot(v2,v2))\n",
    "    \n",
    "print(sim(get_distances('love', contexts, distances),\n",
    "          get_distances('like', contexts, distances)))"
   ]
  },
  {
   "cell_type": "code",
   "execution_count": 48,
   "metadata": {},
   "outputs": [
    {
     "name": "stdout",
     "output_type": "stream",
     "text": [
      "0.05170308942397892\n"
     ]
    }
   ],
   "source": [
    "print(sim(get_distances('love', contexts, distances),\n",
    "          get_distances('hate', contexts, distances)))"
   ]
  },
  {
   "cell_type": "code",
   "execution_count": 52,
   "metadata": {},
   "outputs": [
    {
     "name": "stdout",
     "output_type": "stream",
     "text": [
      "0.04916181293576367\n"
     ]
    }
   ],
   "source": [
    "print(sim(get_distances('love', contexts, distances),\n",
    "          get_distances('pizza', contexts, distances)))"
   ]
  },
  {
   "cell_type": "markdown",
   "metadata": {},
   "source": [
    "So, `love` is more similar to `like` than to `pizza`.\n",
    "\n",
    "\n",
    "<br><br><br>\n",
    "**However**, this approach treats each word the same when computing similarity. \n",
    "\n",
    "- Presumably, some context words are more important than others (e.g., `the` versus `hippopotamus`). \n",
    "- `tf-idf` captures this to some extent.\n",
    "- Can we use machine learning to weight features based on how predictive they are?\n",
    "  - But what is the classification task?\n",
    "  \n",
    "- See `Word2Vec.ipynb`\n",
    "\n"
   ]
  }
 ],
 "metadata": {
  "kernelspec": {
   "display_name": "Python 3",
   "language": "python",
   "name": "python3"
  },
  "language_info": {
   "codemirror_mode": {
    "name": "ipython",
    "version": 3
   },
   "file_extension": ".py",
   "mimetype": "text/x-python",
   "name": "python",
   "nbconvert_exporter": "python",
   "pygments_lexer": "ipython3",
   "version": "3.7.3"
  }
 },
 "nbformat": 4,
 "nbformat_minor": 1
}
